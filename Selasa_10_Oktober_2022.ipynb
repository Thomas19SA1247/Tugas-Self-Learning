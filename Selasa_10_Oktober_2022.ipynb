{
  "cells": [
    {
      "cell_type": "markdown",
      "metadata": {
        "id": "view-in-github",
        "colab_type": "text"
      },
      "source": [
        "<a href=\"https://colab.research.google.com/github/Thomas19SA1247/Tugas-Self-Learning/blob/main/Selasa_10_Oktober_2022.ipynb\" target=\"_parent\"><img src=\"https://colab.research.google.com/assets/colab-badge.svg\" alt=\"Open In Colab\"/></a>"
      ]
    },
    {
      "cell_type": "markdown",
      "metadata": {
        "_uuid": "674378297bf7f78937a4f1aa466932e68466efcd",
        "id": "_4hdWDW_NkCU"
      },
      "source": [
        "### Data Pre-processing Stage\n",
        "\n",
        " \n",
        "  Pada notebook ini berisi tentang basic dalam data pre-processing\n"
      ]
    },
    {
      "cell_type": "code",
      "source": [],
      "metadata": {
        "id": "xuL21IMSCRkB"
      },
      "execution_count": null,
      "outputs": []
    },
    {
      "cell_type": "markdown",
      "metadata": {
        "_uuid": "fe10f16ae89b1e2579469abba5542de59d18ca7d",
        "id": "Ve2KcprKNkCh"
      },
      "source": [
        "#### Why preprocessing ?\n",
        "1. Data yang kita punya dalam dunia nyata biasanya:\n",
        "    * Incomplete: lacking attribute values, lacking certain attributes of interest, or containing only aggregate data.\n",
        "    * Noisy: mengandung error seperti missing values dan outliers.\n",
        "    * Inconsistent: mengandung perbedaan dalam penulisan kolom."
      ]
    },
    {
      "cell_type": "markdown",
      "source": [
        "# 1. Data Cleaning"
      ],
      "metadata": {
        "id": "5a-ybLX0fQb7"
      }
    },
    {
      "cell_type": "markdown",
      "source": [
        "*  Import library\n",
        "Pada percobaan kali ini kita hanya membutuhkan 3 library yaitu pandas, numpy dan seaborn. Pandas berguna untuk mengimport datasetnya sedangkan numpy akan kita gunakan dalam mempreproses datanya.\n"
      ],
      "metadata": {
        "id": "fO6BRVfRp123"
      }
    },
    {
      "cell_type": "code",
      "execution_count": 1,
      "metadata": {
        "_uuid": "3ed37978d39bc4b4497ed16fd66a99a40df07561",
        "id": "_XcFV_m2fznJ"
      },
      "outputs": [],
      "source": [
        "import numpy as np\n",
        "import pandas as pd\n",
        "import seaborn as sns"
      ]
    },
    {
      "cell_type": "markdown",
      "source": [
        "\n",
        "\n",
        "\n",
        "*   Import dataset\n",
        "\n",
        "Mari kita pakai sebuah dataset sederhana untuk latihan.\n",
        "Dataset \"data.csv\" mengandung informasi dimana apakah user akan membeli sebuah product atau tidak.\n",
        "User mempunya fitur age,salary, dan negara tempat mereka tinggal. \n",
        "Import datasetnya dengan download link dibawah:\n",
        "Link Dataset: https://drive.google.com/file/d/1n0cdPoapQQilWy4EKWiyDgi4WXx-kZ7D/view?usp=sharing dan upload dataset ke dalam folder collab.\n"
      ],
      "metadata": {
        "id": "OxMDBFeKgLFe"
      }
    },
    {
      "cell_type": "code",
      "source": [
        "dataset = pd.read_csv(\"Data.csv\")\n",
        "\n",
        "\n",
        "# Menampilkan shape dari data yg kita punya\n",
        "print('dataset:', (str(dataset.shape)))"
      ],
      "metadata": {
        "id": "v9kM_qx6hD7L",
        "colab": {
          "base_uri": "https://localhost:8080/"
        },
        "outputId": "520fb797-50a5-405f-df8d-12f39d00d738"
      },
      "execution_count": 2,
      "outputs": [
        {
          "output_type": "stream",
          "name": "stdout",
          "text": [
            "dataset: (15, 4)\n"
          ]
        }
      ]
    },
    {
      "cell_type": "markdown",
      "metadata": {
        "_uuid": "f2255fd0287097870845b0b4dbfd4e4ac04ea9f9",
        "id": "JMU9b6BfNkCq"
      },
      "source": [
        "Dataset kita mengandung 15 rows dan 4 columns.\n",
        "Itu artinya kita mempunyai 15 data dan 4 Kolom"
      ]
    },
    {
      "cell_type": "code",
      "execution_count": 3,
      "metadata": {
        "_uuid": "2764bded9c4328f4ca9902a333d882b12d09223e",
        "id": "bZWNWqlINkCs",
        "colab": {
          "base_uri": "https://localhost:8080/",
          "height": 519
        },
        "outputId": "655e50af-36a5-4ced-b555-b46b4ec19501"
      },
      "outputs": [
        {
          "output_type": "execute_result",
          "data": {
            "text/plain": [
              "      Country   Age   Salary Purchased\n",
              "0       India  34.0  92000.0       Yes\n",
              "1   Sri lanka  22.0  25000.0       Yes\n",
              "2       China  31.0  74000.0       Yes\n",
              "3   Sri lanka  29.0      NaN        No\n",
              "4       China  55.0  98000.0       Yes\n",
              "5       India  24.0  30000.0        No\n",
              "6   Sri lanka  28.0  40000.0        No\n",
              "7       India   NaN  60000.0        No\n",
              "8       China  51.0  89000.0       Yes\n",
              "9       India  44.0  78000.0       Yes\n",
              "10  Sri lanka  21.0  20000.0        No\n",
              "11      China  25.0  30000.0       Yes\n",
              "12      India  33.0  45000.0       Yes\n",
              "13      India  42.0  65000.0       Yes\n",
              "14  Sri lanka  33.0  22000.0        No"
            ],
            "text/html": [
              "\n",
              "  <div id=\"df-e9297108-0a79-477c-9851-e20b4da137ea\">\n",
              "    <div class=\"colab-df-container\">\n",
              "      <div>\n",
              "<style scoped>\n",
              "    .dataframe tbody tr th:only-of-type {\n",
              "        vertical-align: middle;\n",
              "    }\n",
              "\n",
              "    .dataframe tbody tr th {\n",
              "        vertical-align: top;\n",
              "    }\n",
              "\n",
              "    .dataframe thead th {\n",
              "        text-align: right;\n",
              "    }\n",
              "</style>\n",
              "<table border=\"1\" class=\"dataframe\">\n",
              "  <thead>\n",
              "    <tr style=\"text-align: right;\">\n",
              "      <th></th>\n",
              "      <th>Country</th>\n",
              "      <th>Age</th>\n",
              "      <th>Salary</th>\n",
              "      <th>Purchased</th>\n",
              "    </tr>\n",
              "  </thead>\n",
              "  <tbody>\n",
              "    <tr>\n",
              "      <th>0</th>\n",
              "      <td>India</td>\n",
              "      <td>34.0</td>\n",
              "      <td>92000.0</td>\n",
              "      <td>Yes</td>\n",
              "    </tr>\n",
              "    <tr>\n",
              "      <th>1</th>\n",
              "      <td>Sri lanka</td>\n",
              "      <td>22.0</td>\n",
              "      <td>25000.0</td>\n",
              "      <td>Yes</td>\n",
              "    </tr>\n",
              "    <tr>\n",
              "      <th>2</th>\n",
              "      <td>China</td>\n",
              "      <td>31.0</td>\n",
              "      <td>74000.0</td>\n",
              "      <td>Yes</td>\n",
              "    </tr>\n",
              "    <tr>\n",
              "      <th>3</th>\n",
              "      <td>Sri lanka</td>\n",
              "      <td>29.0</td>\n",
              "      <td>NaN</td>\n",
              "      <td>No</td>\n",
              "    </tr>\n",
              "    <tr>\n",
              "      <th>4</th>\n",
              "      <td>China</td>\n",
              "      <td>55.0</td>\n",
              "      <td>98000.0</td>\n",
              "      <td>Yes</td>\n",
              "    </tr>\n",
              "    <tr>\n",
              "      <th>5</th>\n",
              "      <td>India</td>\n",
              "      <td>24.0</td>\n",
              "      <td>30000.0</td>\n",
              "      <td>No</td>\n",
              "    </tr>\n",
              "    <tr>\n",
              "      <th>6</th>\n",
              "      <td>Sri lanka</td>\n",
              "      <td>28.0</td>\n",
              "      <td>40000.0</td>\n",
              "      <td>No</td>\n",
              "    </tr>\n",
              "    <tr>\n",
              "      <th>7</th>\n",
              "      <td>India</td>\n",
              "      <td>NaN</td>\n",
              "      <td>60000.0</td>\n",
              "      <td>No</td>\n",
              "    </tr>\n",
              "    <tr>\n",
              "      <th>8</th>\n",
              "      <td>China</td>\n",
              "      <td>51.0</td>\n",
              "      <td>89000.0</td>\n",
              "      <td>Yes</td>\n",
              "    </tr>\n",
              "    <tr>\n",
              "      <th>9</th>\n",
              "      <td>India</td>\n",
              "      <td>44.0</td>\n",
              "      <td>78000.0</td>\n",
              "      <td>Yes</td>\n",
              "    </tr>\n",
              "    <tr>\n",
              "      <th>10</th>\n",
              "      <td>Sri lanka</td>\n",
              "      <td>21.0</td>\n",
              "      <td>20000.0</td>\n",
              "      <td>No</td>\n",
              "    </tr>\n",
              "    <tr>\n",
              "      <th>11</th>\n",
              "      <td>China</td>\n",
              "      <td>25.0</td>\n",
              "      <td>30000.0</td>\n",
              "      <td>Yes</td>\n",
              "    </tr>\n",
              "    <tr>\n",
              "      <th>12</th>\n",
              "      <td>India</td>\n",
              "      <td>33.0</td>\n",
              "      <td>45000.0</td>\n",
              "      <td>Yes</td>\n",
              "    </tr>\n",
              "    <tr>\n",
              "      <th>13</th>\n",
              "      <td>India</td>\n",
              "      <td>42.0</td>\n",
              "      <td>65000.0</td>\n",
              "      <td>Yes</td>\n",
              "    </tr>\n",
              "    <tr>\n",
              "      <th>14</th>\n",
              "      <td>Sri lanka</td>\n",
              "      <td>33.0</td>\n",
              "      <td>22000.0</td>\n",
              "      <td>No</td>\n",
              "    </tr>\n",
              "  </tbody>\n",
              "</table>\n",
              "</div>\n",
              "      <button class=\"colab-df-convert\" onclick=\"convertToInteractive('df-e9297108-0a79-477c-9851-e20b4da137ea')\"\n",
              "              title=\"Convert this dataframe to an interactive table.\"\n",
              "              style=\"display:none;\">\n",
              "        \n",
              "  <svg xmlns=\"http://www.w3.org/2000/svg\" height=\"24px\"viewBox=\"0 0 24 24\"\n",
              "       width=\"24px\">\n",
              "    <path d=\"M0 0h24v24H0V0z\" fill=\"none\"/>\n",
              "    <path d=\"M18.56 5.44l.94 2.06.94-2.06 2.06-.94-2.06-.94-.94-2.06-.94 2.06-2.06.94zm-11 1L8.5 8.5l.94-2.06 2.06-.94-2.06-.94L8.5 2.5l-.94 2.06-2.06.94zm10 10l.94 2.06.94-2.06 2.06-.94-2.06-.94-.94-2.06-.94 2.06-2.06.94z\"/><path d=\"M17.41 7.96l-1.37-1.37c-.4-.4-.92-.59-1.43-.59-.52 0-1.04.2-1.43.59L10.3 9.45l-7.72 7.72c-.78.78-.78 2.05 0 2.83L4 21.41c.39.39.9.59 1.41.59.51 0 1.02-.2 1.41-.59l7.78-7.78 2.81-2.81c.8-.78.8-2.07 0-2.86zM5.41 20L4 18.59l7.72-7.72 1.47 1.35L5.41 20z\"/>\n",
              "  </svg>\n",
              "      </button>\n",
              "      \n",
              "  <style>\n",
              "    .colab-df-container {\n",
              "      display:flex;\n",
              "      flex-wrap:wrap;\n",
              "      gap: 12px;\n",
              "    }\n",
              "\n",
              "    .colab-df-convert {\n",
              "      background-color: #E8F0FE;\n",
              "      border: none;\n",
              "      border-radius: 50%;\n",
              "      cursor: pointer;\n",
              "      display: none;\n",
              "      fill: #1967D2;\n",
              "      height: 32px;\n",
              "      padding: 0 0 0 0;\n",
              "      width: 32px;\n",
              "    }\n",
              "\n",
              "    .colab-df-convert:hover {\n",
              "      background-color: #E2EBFA;\n",
              "      box-shadow: 0px 1px 2px rgba(60, 64, 67, 0.3), 0px 1px 3px 1px rgba(60, 64, 67, 0.15);\n",
              "      fill: #174EA6;\n",
              "    }\n",
              "\n",
              "    [theme=dark] .colab-df-convert {\n",
              "      background-color: #3B4455;\n",
              "      fill: #D2E3FC;\n",
              "    }\n",
              "\n",
              "    [theme=dark] .colab-df-convert:hover {\n",
              "      background-color: #434B5C;\n",
              "      box-shadow: 0px 1px 3px 1px rgba(0, 0, 0, 0.15);\n",
              "      filter: drop-shadow(0px 1px 2px rgba(0, 0, 0, 0.3));\n",
              "      fill: #FFFFFF;\n",
              "    }\n",
              "  </style>\n",
              "\n",
              "      <script>\n",
              "        const buttonEl =\n",
              "          document.querySelector('#df-e9297108-0a79-477c-9851-e20b4da137ea button.colab-df-convert');\n",
              "        buttonEl.style.display =\n",
              "          google.colab.kernel.accessAllowed ? 'block' : 'none';\n",
              "\n",
              "        async function convertToInteractive(key) {\n",
              "          const element = document.querySelector('#df-e9297108-0a79-477c-9851-e20b4da137ea');\n",
              "          const dataTable =\n",
              "            await google.colab.kernel.invokeFunction('convertToInteractive',\n",
              "                                                     [key], {});\n",
              "          if (!dataTable) return;\n",
              "\n",
              "          const docLinkHtml = 'Like what you see? Visit the ' +\n",
              "            '<a target=\"_blank\" href=https://colab.research.google.com/notebooks/data_table.ipynb>data table notebook</a>'\n",
              "            + ' to learn more about interactive tables.';\n",
              "          element.innerHTML = '';\n",
              "          dataTable['output_type'] = 'display_data';\n",
              "          await google.colab.output.renderOutput(dataTable, element);\n",
              "          const docLink = document.createElement('div');\n",
              "          docLink.innerHTML = docLinkHtml;\n",
              "          element.appendChild(docLink);\n",
              "        }\n",
              "      </script>\n",
              "    </div>\n",
              "  </div>\n",
              "  "
            ]
          },
          "metadata": {},
          "execution_count": 3
        }
      ],
      "source": [
        "# print the dataset\n",
        "dataset"
      ]
    },
    {
      "cell_type": "code",
      "execution_count": 4,
      "metadata": {
        "_uuid": "0b51a61e0f0b243b1b3c5650a30dcf02d6f943a5",
        "id": "UC-7LOV3NkCt"
      },
      "outputs": [],
      "source": [
        "# Memisahkan antara fitur dan label\n",
        "\n",
        "# Fitur\n",
        "# iloc[rows,columns] (Slicing pada dataframe)\n",
        "# Mengambil semua data dalam barisan.\n",
        "# Mengambil kolom index ke-0 sampai ke-2\n",
        "X = dataset.iloc[:,:3].values\n",
        "\n",
        "# Label\n",
        "# iloc[rows,columns] (Slicing pada dataframe)\n",
        "# Mengambil semua data dalam barisan.\n",
        "# Hanya Mengambil kolom index ke-3\n",
        "Y = dataset.iloc[:,3].values"
      ]
    },
    {
      "cell_type": "code",
      "execution_count": 5,
      "metadata": {
        "_uuid": "5351fbd6905b93aad9c455ee99cb0814e55cfc58",
        "id": "AdKUJVBbNkCv",
        "colab": {
          "base_uri": "https://localhost:8080/"
        },
        "outputId": "111fa296-b12e-4014-f709-ec585d1139cb"
      },
      "outputs": [
        {
          "output_type": "stream",
          "name": "stdout",
          "text": [
            "Fitur (X): [['India' 34.0 92000.0]\n",
            " ['Sri lanka' 22.0 25000.0]\n",
            " ['China' 31.0 74000.0]\n",
            " ['Sri lanka' 29.0 nan]\n",
            " ['China' 55.0 98000.0]\n",
            " ['India' 24.0 30000.0]\n",
            " ['Sri lanka' 28.0 40000.0]\n",
            " ['India' nan 60000.0]\n",
            " ['China' 51.0 89000.0]\n",
            " ['India' 44.0 78000.0]\n",
            " ['Sri lanka' 21.0 20000.0]\n",
            " ['China' 25.0 30000.0]\n",
            " ['India' 33.0 45000.0]\n",
            " ['India' 42.0 65000.0]\n",
            " ['Sri lanka' 33.0 22000.0]]\n",
            "\n",
            "-----------------------------------\n",
            "\n",
            "Label (Y):  ['Yes' 'Yes' 'Yes' 'No' 'Yes' 'No' 'No' 'No' 'Yes' 'Yes' 'No' 'Yes' 'Yes'\n",
            " 'Yes' 'No']\n"
          ]
        }
      ],
      "source": [
        "# Print the X and Y\n",
        "print ('Fitur (X):', X)\n",
        "print ('\\n-----------------------------------')\n",
        "print ('\\nLabel (Y): ',Y)"
      ]
    },
    {
      "cell_type": "markdown",
      "source": [
        "\n",
        "\n",
        "## Handle Missing Data\n",
        "\n",
        "\n"
      ],
      "metadata": {
        "id": "45s-6hYchOkF"
      }
    },
    {
      "cell_type": "code",
      "execution_count": 6,
      "metadata": {
        "id": "dyltZvntNkCx",
        "colab": {
          "base_uri": "https://localhost:8080/"
        },
        "outputId": "fd5a3b18-fcde-477b-d411-1a2286ffedf6"
      },
      "outputs": [
        {
          "output_type": "execute_result",
          "data": {
            "text/plain": [
              "Country      0\n",
              "Age          1\n",
              "Salary       1\n",
              "Purchased    0\n",
              "dtype: int64"
            ]
          },
          "metadata": {},
          "execution_count": 6
        }
      ],
      "source": [
        "dataset.isnull().sum()"
      ]
    },
    {
      "cell_type": "markdown",
      "metadata": {
        "id": "pBSriOpYNkCy"
      },
      "source": [
        "Dengan menggunakan fungsi isnull().sum() kita dapat melihat jumlah data yg memiliki missing value dari tiap kolom yang ada.\n",
        "Disini kita dapat melihat kalau terdapat 2 kolom yang memiliki masalah missing value, yaitu pada kolom 'Age' dan 'Salary'.\n",
        "\n",
        "Untuk menangangi masalah missing value, kita bisa melakukan 2 hal. Pertama kita bisa menghapus datanya atau kita bisa mengisi nilai yang kosong itu menggunakan nilai mean/modus/median.\n",
        "\n",
        "Pada percobaan kali ini kita akan menggunakan nilai Mean untuk mengisi missing value tersebut menggunakan bantuan Simple Imputer dari module sklearn"
      ]
    },
    {
      "cell_type": "code",
      "execution_count": 7,
      "metadata": {
        "_uuid": "bc0f9fc1fde9aff85963ee3db02f1fd943d01d93",
        "id": "Yif2cv4bNkCz"
      },
      "outputs": [],
      "source": [
        "from sklearn.impute import SimpleImputer\n",
        "\n",
        "# SimpleImputer class mempunyai 2 parameter, yaitu :\n",
        "#     missing_values : Missing value pada data kita, biasanya diisi dengan np.nan\n",
        "#     strategy       : Strategi yang akan kita gunakan dalam menangani missing value (Mean/Modus/Median).\n",
        "#                      Defaultnya parameter strategy 'mean'\n",
        "\n",
        "imputer = SimpleImputer(missing_values = np.nan ,strategy = 'mean')\n",
        "\n",
        "\n",
        "# Fit imputer kedalam data X untuk kolom Age (index ke-1) dan Salary (index ke-2).\n",
        "imputer = imputer.fit(X[:,1:3])\n",
        "\n",
        "#Replace missing value dengan mean pada kolom tersebut\n",
        "X[:,1:3] = imputer.transform(X[:,1:3])\n"
      ]
    },
    {
      "cell_type": "markdown",
      "metadata": {
        "id": "Trb1-iagNkC0"
      },
      "source": [
        "Dibawah ini kita bisa melihat bahwa tidak ada nilai 'Nan' pada data X"
      ]
    },
    {
      "cell_type": "code",
      "execution_count": 8,
      "metadata": {
        "_uuid": "cbb90e1ca86164287023c7fc38197bf087e0ef0e",
        "id": "DKZ-imL7NkC1",
        "colab": {
          "base_uri": "https://localhost:8080/"
        },
        "outputId": "43ae3abb-f7a1-4de5-e15c-4f60b07ae5b9"
      },
      "outputs": [
        {
          "output_type": "stream",
          "name": "stdout",
          "text": [
            "X:  [['India' 34.0 92000.0]\n",
            " ['Sri lanka' 22.0 25000.0]\n",
            " ['China' 31.0 74000.0]\n",
            " ['Sri lanka' 29.0 54857.142857142855]\n",
            " ['China' 55.0 98000.0]\n",
            " ['India' 24.0 30000.0]\n",
            " ['Sri lanka' 28.0 40000.0]\n",
            " ['India' 33.714285714285715 60000.0]\n",
            " ['China' 51.0 89000.0]\n",
            " ['India' 44.0 78000.0]\n",
            " ['Sri lanka' 21.0 20000.0]\n",
            " ['China' 25.0 30000.0]\n",
            " ['India' 33.0 45000.0]\n",
            " ['India' 42.0 65000.0]\n",
            " ['Sri lanka' 33.0 22000.0]]\n"
          ]
        }
      ],
      "source": [
        "print ('X: ', X)"
      ]
    },
    {
      "cell_type": "markdown",
      "metadata": {
        "_uuid": "e06044bf541de146377c72fe4f34eb83100c2f49",
        "id": "Aah_CRJ8NkC2"
      },
      "source": [
        "* Mean Value of Age    = Sum of all age values /14   = 33.714285714285715\n",
        "* Mean Value of Salary = Sum of all Salary value /14 = 54857.142857142855"
      ]
    },
    {
      "cell_type": "markdown",
      "source": [
        "## SMOTE\n",
        "\n",
        "Imbalance Data (Ketidakseimbangan Kelas) adalah masalah yang cukup sering terjadi dimanifestasikan dalam deteksi penipuan, deteksi intrusi, deteksi aktivitas Mencurigakan untuk beberapa nama. Dalam konteks klasifikasi biner, kelas yang lebih jarang muncul disebut kelas minoritas, dan kelas yang lebih sering muncul disebut kelas mayoritas."
      ],
      "metadata": {
        "id": "MalHK8T3WcSh"
      }
    },
    {
      "cell_type": "markdown",
      "source": [
        "Langkah pertama membuat kumpulan data sampel"
      ],
      "metadata": {
        "id": "oFTozm5BiLJZ"
      }
    },
    {
      "cell_type": "code",
      "source": [
        "from sklearn.linear_model import LogisticRegression\n",
        "from sklearn.datasets import make_classification\n",
        "from sklearn.metrics import classification_report\n",
        "from sklearn import metrics"
      ],
      "metadata": {
        "id": "89YHsM15jq9f"
      },
      "execution_count": 9,
      "outputs": []
    },
    {
      "cell_type": "code",
      "source": [
        "X, y = make_classification(n_classes=2, class_sep=0.5,\n",
        "weights=[0.05, 0.95], n_informative=2, n_redundant=0, flip_y=0,\n",
        "n_features=2, n_clusters_per_class=1, n_samples=1000, random_state=10)"
      ],
      "metadata": {
        "id": "4T2KVhFUiGTH"
      },
      "execution_count": 10,
      "outputs": []
    },
    {
      "cell_type": "code",
      "source": [
        "from sklearn.model_selection import train_test_split"
      ],
      "metadata": {
        "id": "ZPbOFeihMXMs"
      },
      "execution_count": 11,
      "outputs": []
    },
    {
      "cell_type": "code",
      "source": [
        "#Splitting sata menjadi data training dan data testing\n",
        "X_train, X_test, y_train, y_test = train_test_split(X, y, test_size=0.2, random_state=4)\n",
        "\n",
        "print ('Train set:', X_train.shape,  y_train.shape)\n",
        "print ('Test set:', X_test.shape,  y_test.shape)"
      ],
      "metadata": {
        "colab": {
          "base_uri": "https://localhost:8080/"
        },
        "id": "ep7mtEF0L49A",
        "outputId": "8ed8bf82-e480-4031-b8d5-77abe6ca85bb"
      },
      "execution_count": 12,
      "outputs": [
        {
          "output_type": "stream",
          "name": "stdout",
          "text": [
            "Train set: (800, 2) (800,)\n",
            "Test set: (200, 2) (200,)\n"
          ]
        }
      ]
    },
    {
      "cell_type": "markdown",
      "source": [
        "make_classification adalah fungsi yang cukup berguna untuk membuat beberapa data eksperimental untuk Anda. Parameter penting di sini adalah bobot yang memastikan 95% berasal dari satu kelas dan 5% dari kelas lainnya.![smote.png](data:image/png;base64,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)\n",
        "\n",
        "Dapat dipahami bahwa kelas merah adalah kelas mayoritas dan kelas biru adalah kelas minoritas."
      ],
      "metadata": {
        "id": "6hgTyiK2ic9h"
      }
    },
    {
      "cell_type": "code",
      "source": [
        "sns.countplot(y)"
      ],
      "metadata": {
        "id": "U2zGgOzMkMY9",
        "colab": {
          "base_uri": "https://localhost:8080/",
          "height": 340
        },
        "outputId": "f0264557-7f46-4b78-c425-e31aadbfae53"
      },
      "execution_count": 13,
      "outputs": [
        {
          "output_type": "stream",
          "name": "stderr",
          "text": [
            "/usr/local/lib/python3.7/dist-packages/seaborn/_decorators.py:43: FutureWarning: Pass the following variable as a keyword arg: x. From version 0.12, the only valid positional argument will be `data`, and passing other arguments without an explicit keyword will result in an error or misinterpretation.\n",
            "  FutureWarning\n"
          ]
        },
        {
          "output_type": "execute_result",
          "data": {
            "text/plain": [
              "<matplotlib.axes._subplots.AxesSubplot at 0x7f2926ea5d90>"
            ]
          },
          "metadata": {},
          "execution_count": 13
        },
        {
          "output_type": "display_data",
          "data": {
            "text/plain": [
              "<Figure size 432x288 with 1 Axes>"
            ],
            "image/png": "[encoded data removed]"
          },
          "metadata": {
            "needs_background": "light"
          }
        }
      ]
    },
    {
      "cell_type": "markdown",
      "source": [
        "jika kita plot count maka dapat dilihat lebih jelas adanya imbalance data di y atau label. Maka selanjutnya kita akan split data dan lihat hasil klasifikasinya dengan model Logistic Regression, ketika sebelum dan sesudah data label di masukan dalam model SMOTE."
      ],
      "metadata": {
        "id": "cIer64fTkv80"
      }
    },
    {
      "cell_type": "code",
      "source": [
        "from sklearn.model_selection import train_test_split\n",
        "X_train, X_test, y_train, y_test = train_test_split(X, y, test_size=0.2, random_state=42)"
      ],
      "metadata": {
        "id": "PBA96Sk1PaNF"
      },
      "execution_count": 14,
      "outputs": []
    },
    {
      "cell_type": "code",
      "source": [
        "from imblearn.over_sampling import SMOTE\n",
        "sm = SMOTE(random_state=10)\n",
        "X_res, y_res = sm.fit_resample(X_train, y_train)"
      ],
      "metadata": {
        "id": "b0TIOwqfi3j8"
      },
      "execution_count": 15,
      "outputs": []
    },
    {
      "cell_type": "code",
      "source": [
        "sns.countplot(y_res)"
      ],
      "metadata": {
        "id": "OnJEeOWykbKM",
        "colab": {
          "base_uri": "https://localhost:8080/",
          "height": 340
        },
        "outputId": "61e9e9d6-1c3b-4f3d-a00d-f0f6a8ac53f7"
      },
      "execution_count": 16,
      "outputs": [
        {
          "output_type": "stream",
          "name": "stderr",
          "text": [
            "/usr/local/lib/python3.7/dist-packages/seaborn/_decorators.py:43: FutureWarning: Pass the following variable as a keyword arg: x. From version 0.12, the only valid positional argument will be `data`, and passing other arguments without an explicit keyword will result in an error or misinterpretation.\n",
            "  FutureWarning\n"
          ]
        },
        {
          "output_type": "execute_result",
          "data": {
            "text/plain": [
              "<matplotlib.axes._subplots.AxesSubplot at 0x7f29261756d0>"
            ]
          },
          "metadata": {},
          "execution_count": 16
        },
        {
          "output_type": "display_data",
          "data": {
            "text/plain": [
              "<Figure size 432x288 with 1 Axes>"
            ],
            "image/png": "[encoded data removed]"
          },
          "metadata": {
            "needs_background": "light"
          }
        }
      ]
    },
    {
      "cell_type": "markdown",
      "source": [
        "Perhatikan bahwa plotcount sekarang sudah sama antara kelas 0 dan 1. "
      ],
      "metadata": {
        "id": "AwHjBvVwl-an"
      }
    },
    {
      "cell_type": "markdown",
      "source": [
        "## Redundency Data\n",
        "\n",
        "Redudansi data adalah duplikasi atau penyimpanan data yang sama secara berulang dalam beberapa file, sehingga data yang sama di simpan di dalam lebih dari 1 lokasi. Redudansi menyebabkan masalah pada waktu memperbarui (update) data, serta dapat menghabiskan tempat penyimpanan data dan juga menimbulkan inkonsisten data, yang berarti dokumen yang sama mungkin mempunyai data yang berbeda. Akhirnya, Redundansi mengakibatkan data menjadi tidak konsisten. Penyimpanan dibeberapa tempat untuk data yang sama ini disebut sebagai redundansi dan mengakibatkan pemborosan ruang penyimpanan dan juga biaya untuk akses lebih tinggi.\n",
        "\n",
        "Dapat dilihat contoh dibawah dimana kami akan membuat sebuah dataset yang sederhana:"
      ],
      "metadata": {
        "id": "0WhSy4JklYEv"
      }
    },
    {
      "cell_type": "code",
      "source": [
        "data = { 'Names':['Yusuf','Allafa','Abdiel','Ipin','Ibnu','Rifal','Haidar','Yusuf','Yusuf'],\n",
        "         'Marks':[56,89,90,45,34,65,77,56,56],\n",
        "         'City' :['Jakarta','Yogyakarta','Solo','Surabaya','Makasar','Malang','Yogyakarta','Jakarta','Jakarta']}\n",
        "\n",
        "df = pd.DataFrame(data)\n",
        "df"
      ],
      "metadata": {
        "id": "vtfA9ByVlmxg",
        "colab": {
          "base_uri": "https://localhost:8080/",
          "height": 331
        },
        "outputId": "1d771634-fcdd-4da6-88ef-c4cfa418f3af"
      },
      "execution_count": 17,
      "outputs": [
        {
          "output_type": "execute_result",
          "data": {
            "text/plain": [
              "    Names  Marks        City\n",
              "0   Yusuf     56     Jakarta\n",
              "1  Allafa     89  Yogyakarta\n",
              "2  Abdiel     90        Solo\n",
              "3    Ipin     45    Surabaya\n",
              "4    Ibnu     34     Makasar\n",
              "5   Rifal     65      Malang\n",
              "6  Haidar     77  Yogyakarta\n",
              "7   Yusuf     56     Jakarta\n",
              "8   Yusuf     56     Jakarta"
            ],
            "text/html": [
              "\n",
              "  <div id=\"df-c956fab5-518b-488d-b2a9-dc73fa7f89b6\">\n",
              "    <div class=\"colab-df-container\">\n",
              "      <div>\n",
              "<style scoped>\n",
              "    .dataframe tbody tr th:only-of-type {\n",
              "        vertical-align: middle;\n",
              "    }\n",
              "\n",
              "    .dataframe tbody tr th {\n",
              "        vertical-align: top;\n",
              "    }\n",
              "\n",
              "    .dataframe thead th {\n",
              "        text-align: right;\n",
              "    }\n",
              "</style>\n",
              "<table border=\"1\" class=\"dataframe\">\n",
              "  <thead>\n",
              "    <tr style=\"text-align: right;\">\n",
              "      <th></th>\n",
              "      <th>Names</th>\n",
              "      <th>Marks</th>\n",
              "      <th>City</th>\n",
              "    </tr>\n",
              "  </thead>\n",
              "  <tbody>\n",
              "    <tr>\n",
              "      <th>0</th>\n",
              "      <td>Yusuf</td>\n",
              "      <td>56</td>\n",
              "      <td>Jakarta</td>\n",
              "    </tr>\n",
              "    <tr>\n",
              "      <th>1</th>\n",
              "      <td>Allafa</td>\n",
              "      <td>89</td>\n",
              "      <td>Yogyakarta</td>\n",
              "    </tr>\n",
              "    <tr>\n",
              "      <th>2</th>\n",
              "      <td>Abdiel</td>\n",
              "      <td>90</td>\n",
              "      <td>Solo</td>\n",
              "    </tr>\n",
              "    <tr>\n",
              "      <th>3</th>\n",
              "      <td>Ipin</td>\n",
              "      <td>45</td>\n",
              "      <td>Surabaya</td>\n",
              "    </tr>\n",
              "    <tr>\n",
              "      <th>4</th>\n",
              "      <td>Ibnu</td>\n",
              "      <td>34</td>\n",
              "      <td>Makasar</td>\n",
              "    </tr>\n",
              "    <tr>\n",
              "      <th>5</th>\n",
              "      <td>Rifal</td>\n",
              "      <td>65</td>\n",
              "      <td>Malang</td>\n",
              "    </tr>\n",
              "    <tr>\n",
              "      <th>6</th>\n",
              "      <td>Haidar</td>\n",
              "      <td>77</td>\n",
              "      <td>Yogyakarta</td>\n",
              "    </tr>\n",
              "    <tr>\n",
              "      <th>7</th>\n",
              "      <td>Yusuf</td>\n",
              "      <td>56</td>\n",
              "      <td>Jakarta</td>\n",
              "    </tr>\n",
              "    <tr>\n",
              "      <th>8</th>\n",
              "      <td>Yusuf</td>\n",
              "      <td>56</td>\n",
              "      <td>Jakarta</td>\n",
              "    </tr>\n",
              "  </tbody>\n",
              "</table>\n",
              "</div>\n",
              "      <button class=\"colab-df-convert\" onclick=\"convertToInteractive('df-c956fab5-518b-488d-b2a9-dc73fa7f89b6')\"\n",
              "              title=\"Convert this dataframe to an interactive table.\"\n",
              "              style=\"display:none;\">\n",
              "        \n",
              "  <svg xmlns=\"http://www.w3.org/2000/svg\" height=\"24px\"viewBox=\"0 0 24 24\"\n",
              "       width=\"24px\">\n",
              "    <path d=\"M0 0h24v24H0V0z\" fill=\"none\"/>\n",
              "    <path d=\"M18.56 5.44l.94 2.06.94-2.06 2.06-.94-2.06-.94-.94-2.06-.94 2.06-2.06.94zm-11 1L8.5 8.5l.94-2.06 2.06-.94-2.06-.94L8.5 2.5l-.94 2.06-2.06.94zm10 10l.94 2.06.94-2.06 2.06-.94-2.06-.94-.94-2.06-.94 2.06-2.06.94z\"/><path d=\"M17.41 7.96l-1.37-1.37c-.4-.4-.92-.59-1.43-.59-.52 0-1.04.2-1.43.59L10.3 9.45l-7.72 7.72c-.78.78-.78 2.05 0 2.83L4 21.41c.39.39.9.59 1.41.59.51 0 1.02-.2 1.41-.59l7.78-7.78 2.81-2.81c.8-.78.8-2.07 0-2.86zM5.41 20L4 18.59l7.72-7.72 1.47 1.35L5.41 20z\"/>\n",
              "  </svg>\n",
              "      </button>\n",
              "      \n",
              "  <style>\n",
              "    .colab-df-container {\n",
              "      display:flex;\n",
              "      flex-wrap:wrap;\n",
              "      gap: 12px;\n",
              "    }\n",
              "\n",
              "    .colab-df-convert {\n",
              "      background-color: #E8F0FE;\n",
              "      border: none;\n",
              "      border-radius: 50%;\n",
              "      cursor: pointer;\n",
              "      display: none;\n",
              "      fill: #1967D2;\n",
              "      height: 32px;\n",
              "      padding: 0 0 0 0;\n",
              "      width: 32px;\n",
              "    }\n",
              "\n",
              "    .colab-df-convert:hover {\n",
              "      background-color: #E2EBFA;\n",
              "      box-shadow: 0px 1px 2px rgba(60, 64, 67, 0.3), 0px 1px 3px 1px rgba(60, 64, 67, 0.15);\n",
              "      fill: #174EA6;\n",
              "    }\n",
              "\n",
              "    [theme=dark] .colab-df-convert {\n",
              "      background-color: #3B4455;\n",
              "      fill: #D2E3FC;\n",
              "    }\n",
              "\n",
              "    [theme=dark] .colab-df-convert:hover {\n",
              "      background-color: #434B5C;\n",
              "      box-shadow: 0px 1px 3px 1px rgba(0, 0, 0, 0.15);\n",
              "      filter: drop-shadow(0px 1px 2px rgba(0, 0, 0, 0.3));\n",
              "      fill: #FFFFFF;\n",
              "    }\n",
              "  </style>\n",
              "\n",
              "      <script>\n",
              "        const buttonEl =\n",
              "          document.querySelector('#df-c956fab5-518b-488d-b2a9-dc73fa7f89b6 button.colab-df-convert');\n",
              "        buttonEl.style.display =\n",
              "          google.colab.kernel.accessAllowed ? 'block' : 'none';\n",
              "\n",
              "        async function convertToInteractive(key) {\n",
              "          const element = document.querySelector('#df-c956fab5-518b-488d-b2a9-dc73fa7f89b6');\n",
              "          const dataTable =\n",
              "            await google.colab.kernel.invokeFunction('convertToInteractive',\n",
              "                                                     [key], {});\n",
              "          if (!dataTable) return;\n",
              "\n",
              "          const docLinkHtml = 'Like what you see? Visit the ' +\n",
              "            '<a target=\"_blank\" href=https://colab.research.google.com/notebooks/data_table.ipynb>data table notebook</a>'\n",
              "            + ' to learn more about interactive tables.';\n",
              "          element.innerHTML = '';\n",
              "          dataTable['output_type'] = 'display_data';\n",
              "          await google.colab.output.renderOutput(dataTable, element);\n",
              "          const docLink = document.createElement('div');\n",
              "          docLink.innerHTML = docLinkHtml;\n",
              "          element.appendChild(docLink);\n",
              "        }\n",
              "      </script>\n",
              "    </div>\n",
              "  </div>\n",
              "  "
            ]
          },
          "metadata": {},
          "execution_count": 17
        }
      ]
    },
    {
      "cell_type": "markdown",
      "source": [
        "Dapat dilihat pada dataset kita bahwa baris 1 dan baris terakhir memiliki duplika data. Oleh karena itu cara mengatasinya dengan menghilangkan salah satu baris tersebut, dengan menggunakan fungsi pandas yaitu **drop_duplicates()**"
      ],
      "metadata": {
        "id": "q_ygcs65lriQ"
      }
    },
    {
      "cell_type": "code",
      "source": [
        "df.drop_duplicates(subset='Names', keep='first')"
      ],
      "metadata": {
        "id": "HVVvN9JPlyRA",
        "colab": {
          "base_uri": "https://localhost:8080/",
          "height": 269
        },
        "outputId": "12f49b9d-a91b-487e-f458-eda1b1aa3fbc"
      },
      "execution_count": 18,
      "outputs": [
        {
          "output_type": "execute_result",
          "data": {
            "text/plain": [
              "    Names  Marks        City\n",
              "0   Yusuf     56     Jakarta\n",
              "1  Allafa     89  Yogyakarta\n",
              "2  Abdiel     90        Solo\n",
              "3    Ipin     45    Surabaya\n",
              "4    Ibnu     34     Makasar\n",
              "5   Rifal     65      Malang\n",
              "6  Haidar     77  Yogyakarta"
            ],
            "text/html": [
              "\n",
              "  <div id=\"df-22957f0c-b47c-43f9-a3c8-0b0615902be8\">\n",
              "    <div class=\"colab-df-container\">\n",
              "      <div>\n",
              "<style scoped>\n",
              "    .dataframe tbody tr th:only-of-type {\n",
              "        vertical-align: middle;\n",
              "    }\n",
              "\n",
              "    .dataframe tbody tr th {\n",
              "        vertical-align: top;\n",
              "    }\n",
              "\n",
              "    .dataframe thead th {\n",
              "        text-align: right;\n",
              "    }\n",
              "</style>\n",
              "<table border=\"1\" class=\"dataframe\">\n",
              "  <thead>\n",
              "    <tr style=\"text-align: right;\">\n",
              "      <th></th>\n",
              "      <th>Names</th>\n",
              "      <th>Marks</th>\n",
              "      <th>City</th>\n",
              "    </tr>\n",
              "  </thead>\n",
              "  <tbody>\n",
              "    <tr>\n",
              "      <th>0</th>\n",
              "      <td>Yusuf</td>\n",
              "      <td>56</td>\n",
              "      <td>Jakarta</td>\n",
              "    </tr>\n",
              "    <tr>\n",
              "      <th>1</th>\n",
              "      <td>Allafa</td>\n",
              "      <td>89</td>\n",
              "      <td>Yogyakarta</td>\n",
              "    </tr>\n",
              "    <tr>\n",
              "      <th>2</th>\n",
              "      <td>Abdiel</td>\n",
              "      <td>90</td>\n",
              "      <td>Solo</td>\n",
              "    </tr>\n",
              "    <tr>\n",
              "      <th>3</th>\n",
              "      <td>Ipin</td>\n",
              "      <td>45</td>\n",
              "      <td>Surabaya</td>\n",
              "    </tr>\n",
              "    <tr>\n",
              "      <th>4</th>\n",
              "      <td>Ibnu</td>\n",
              "      <td>34</td>\n",
              "      <td>Makasar</td>\n",
              "    </tr>\n",
              "    <tr>\n",
              "      <th>5</th>\n",
              "      <td>Rifal</td>\n",
              "      <td>65</td>\n",
              "      <td>Malang</td>\n",
              "    </tr>\n",
              "    <tr>\n",
              "      <th>6</th>\n",
              "      <td>Haidar</td>\n",
              "      <td>77</td>\n",
              "      <td>Yogyakarta</td>\n",
              "    </tr>\n",
              "  </tbody>\n",
              "</table>\n",
              "</div>\n",
              "      <button class=\"colab-df-convert\" onclick=\"convertToInteractive('df-22957f0c-b47c-43f9-a3c8-0b0615902be8')\"\n",
              "              title=\"Convert this dataframe to an interactive table.\"\n",
              "              style=\"display:none;\">\n",
              "        \n",
              "  <svg xmlns=\"http://www.w3.org/2000/svg\" height=\"24px\"viewBox=\"0 0 24 24\"\n",
              "       width=\"24px\">\n",
              "    <path d=\"M0 0h24v24H0V0z\" fill=\"none\"/>\n",
              "    <path d=\"M18.56 5.44l.94 2.06.94-2.06 2.06-.94-2.06-.94-.94-2.06-.94 2.06-2.06.94zm-11 1L8.5 8.5l.94-2.06 2.06-.94-2.06-.94L8.5 2.5l-.94 2.06-2.06.94zm10 10l.94 2.06.94-2.06 2.06-.94-2.06-.94-.94-2.06-.94 2.06-2.06.94z\"/><path d=\"M17.41 7.96l-1.37-1.37c-.4-.4-.92-.59-1.43-.59-.52 0-1.04.2-1.43.59L10.3 9.45l-7.72 7.72c-.78.78-.78 2.05 0 2.83L4 21.41c.39.39.9.59 1.41.59.51 0 1.02-.2 1.41-.59l7.78-7.78 2.81-2.81c.8-.78.8-2.07 0-2.86zM5.41 20L4 18.59l7.72-7.72 1.47 1.35L5.41 20z\"/>\n",
              "  </svg>\n",
              "      </button>\n",
              "      \n",
              "  <style>\n",
              "    .colab-df-container {\n",
              "      display:flex;\n",
              "      flex-wrap:wrap;\n",
              "      gap: 12px;\n",
              "    }\n",
              "\n",
              "    .colab-df-convert {\n",
              "      background-color: #E8F0FE;\n",
              "      border: none;\n",
              "      border-radius: 50%;\n",
              "      cursor: pointer;\n",
              "      display: none;\n",
              "      fill: #1967D2;\n",
              "      height: 32px;\n",
              "      padding: 0 0 0 0;\n",
              "      width: 32px;\n",
              "    }\n",
              "\n",
              "    .colab-df-convert:hover {\n",
              "      background-color: #E2EBFA;\n",
              "      box-shadow: 0px 1px 2px rgba(60, 64, 67, 0.3), 0px 1px 3px 1px rgba(60, 64, 67, 0.15);\n",
              "      fill: #174EA6;\n",
              "    }\n",
              "\n",
              "    [theme=dark] .colab-df-convert {\n",
              "      background-color: #3B4455;\n",
              "      fill: #D2E3FC;\n",
              "    }\n",
              "\n",
              "    [theme=dark] .colab-df-convert:hover {\n",
              "      background-color: #434B5C;\n",
              "      box-shadow: 0px 1px 3px 1px rgba(0, 0, 0, 0.15);\n",
              "      filter: drop-shadow(0px 1px 2px rgba(0, 0, 0, 0.3));\n",
              "      fill: #FFFFFF;\n",
              "    }\n",
              "  </style>\n",
              "\n",
              "      <script>\n",
              "        const buttonEl =\n",
              "          document.querySelector('#df-22957f0c-b47c-43f9-a3c8-0b0615902be8 button.colab-df-convert');\n",
              "        buttonEl.style.display =\n",
              "          google.colab.kernel.accessAllowed ? 'block' : 'none';\n",
              "\n",
              "        async function convertToInteractive(key) {\n",
              "          const element = document.querySelector('#df-22957f0c-b47c-43f9-a3c8-0b0615902be8');\n",
              "          const dataTable =\n",
              "            await google.colab.kernel.invokeFunction('convertToInteractive',\n",
              "                                                     [key], {});\n",
              "          if (!dataTable) return;\n",
              "\n",
              "          const docLinkHtml = 'Like what you see? Visit the ' +\n",
              "            '<a target=\"_blank\" href=https://colab.research.google.com/notebooks/data_table.ipynb>data table notebook</a>'\n",
              "            + ' to learn more about interactive tables.';\n",
              "          element.innerHTML = '';\n",
              "          dataTable['output_type'] = 'display_data';\n",
              "          await google.colab.output.renderOutput(dataTable, element);\n",
              "          const docLink = document.createElement('div');\n",
              "          docLink.innerHTML = docLinkHtml;\n",
              "          element.appendChild(docLink);\n",
              "        }\n",
              "      </script>\n",
              "    </div>\n",
              "  </div>\n",
              "  "
            ]
          },
          "metadata": {},
          "execution_count": 18
        }
      ]
    },
    {
      "cell_type": "code",
      "source": [
        "df.drop_duplicates(subset='Names', keep='last')"
      ],
      "metadata": {
        "id": "toNJli9VlzNL",
        "colab": {
          "base_uri": "https://localhost:8080/",
          "height": 269
        },
        "outputId": "0d3496c0-443b-4dcf-b507-1cae870324db"
      },
      "execution_count": 19,
      "outputs": [
        {
          "output_type": "execute_result",
          "data": {
            "text/plain": [
              "    Names  Marks        City\n",
              "1  Allafa     89  Yogyakarta\n",
              "2  Abdiel     90        Solo\n",
              "3    Ipin     45    Surabaya\n",
              "4    Ibnu     34     Makasar\n",
              "5   Rifal     65      Malang\n",
              "6  Haidar     77  Yogyakarta\n",
              "8   Yusuf     56     Jakarta"
            ],
            "text/html": [
              "\n",
              "  <div id=\"df-465abb04-50d5-4120-9266-16a236816173\">\n",
              "    <div class=\"colab-df-container\">\n",
              "      <div>\n",
              "<style scoped>\n",
              "    .dataframe tbody tr th:only-of-type {\n",
              "        vertical-align: middle;\n",
              "    }\n",
              "\n",
              "    .dataframe tbody tr th {\n",
              "        vertical-align: top;\n",
              "    }\n",
              "\n",
              "    .dataframe thead th {\n",
              "        text-align: right;\n",
              "    }\n",
              "</style>\n",
              "<table border=\"1\" class=\"dataframe\">\n",
              "  <thead>\n",
              "    <tr style=\"text-align: right;\">\n",
              "      <th></th>\n",
              "      <th>Names</th>\n",
              "      <th>Marks</th>\n",
              "      <th>City</th>\n",
              "    </tr>\n",
              "  </thead>\n",
              "  <tbody>\n",
              "    <tr>\n",
              "      <th>1</th>\n",
              "      <td>Allafa</td>\n",
              "      <td>89</td>\n",
              "      <td>Yogyakarta</td>\n",
              "    </tr>\n",
              "    <tr>\n",
              "      <th>2</th>\n",
              "      <td>Abdiel</td>\n",
              "      <td>90</td>\n",
              "      <td>Solo</td>\n",
              "    </tr>\n",
              "    <tr>\n",
              "      <th>3</th>\n",
              "      <td>Ipin</td>\n",
              "      <td>45</td>\n",
              "      <td>Surabaya</td>\n",
              "    </tr>\n",
              "    <tr>\n",
              "      <th>4</th>\n",
              "      <td>Ibnu</td>\n",
              "      <td>34</td>\n",
              "      <td>Makasar</td>\n",
              "    </tr>\n",
              "    <tr>\n",
              "      <th>5</th>\n",
              "      <td>Rifal</td>\n",
              "      <td>65</td>\n",
              "      <td>Malang</td>\n",
              "    </tr>\n",
              "    <tr>\n",
              "      <th>6</th>\n",
              "      <td>Haidar</td>\n",
              "      <td>77</td>\n",
              "      <td>Yogyakarta</td>\n",
              "    </tr>\n",
              "    <tr>\n",
              "      <th>8</th>\n",
              "      <td>Yusuf</td>\n",
              "      <td>56</td>\n",
              "      <td>Jakarta</td>\n",
              "    </tr>\n",
              "  </tbody>\n",
              "</table>\n",
              "</div>\n",
              "      <button class=\"colab-df-convert\" onclick=\"convertToInteractive('df-465abb04-50d5-4120-9266-16a236816173')\"\n",
              "              title=\"Convert this dataframe to an interactive table.\"\n",
              "              style=\"display:none;\">\n",
              "        \n",
              "  <svg xmlns=\"http://www.w3.org/2000/svg\" height=\"24px\"viewBox=\"0 0 24 24\"\n",
              "       width=\"24px\">\n",
              "    <path d=\"M0 0h24v24H0V0z\" fill=\"none\"/>\n",
              "    <path d=\"M18.56 5.44l.94 2.06.94-2.06 2.06-.94-2.06-.94-.94-2.06-.94 2.06-2.06.94zm-11 1L8.5 8.5l.94-2.06 2.06-.94-2.06-.94L8.5 2.5l-.94 2.06-2.06.94zm10 10l.94 2.06.94-2.06 2.06-.94-2.06-.94-.94-2.06-.94 2.06-2.06.94z\"/><path d=\"M17.41 7.96l-1.37-1.37c-.4-.4-.92-.59-1.43-.59-.52 0-1.04.2-1.43.59L10.3 9.45l-7.72 7.72c-.78.78-.78 2.05 0 2.83L4 21.41c.39.39.9.59 1.41.59.51 0 1.02-.2 1.41-.59l7.78-7.78 2.81-2.81c.8-.78.8-2.07 0-2.86zM5.41 20L4 18.59l7.72-7.72 1.47 1.35L5.41 20z\"/>\n",
              "  </svg>\n",
              "      </button>\n",
              "      \n",
              "  <style>\n",
              "    .colab-df-container {\n",
              "      display:flex;\n",
              "      flex-wrap:wrap;\n",
              "      gap: 12px;\n",
              "    }\n",
              "\n",
              "    .colab-df-convert {\n",
              "      background-color: #E8F0FE;\n",
              "      border: none;\n",
              "      border-radius: 50%;\n",
              "      cursor: pointer;\n",
              "      display: none;\n",
              "      fill: #1967D2;\n",
              "      height: 32px;\n",
              "      padding: 0 0 0 0;\n",
              "      width: 32px;\n",
              "    }\n",
              "\n",
              "    .colab-df-convert:hover {\n",
              "      background-color: #E2EBFA;\n",
              "      box-shadow: 0px 1px 2px rgba(60, 64, 67, 0.3), 0px 1px 3px 1px rgba(60, 64, 67, 0.15);\n",
              "      fill: #174EA6;\n",
              "    }\n",
              "\n",
              "    [theme=dark] .colab-df-convert {\n",
              "      background-color: #3B4455;\n",
              "      fill: #D2E3FC;\n",
              "    }\n",
              "\n",
              "    [theme=dark] .colab-df-convert:hover {\n",
              "      background-color: #434B5C;\n",
              "      box-shadow: 0px 1px 3px 1px rgba(0, 0, 0, 0.15);\n",
              "      filter: drop-shadow(0px 1px 2px rgba(0, 0, 0, 0.3));\n",
              "      fill: #FFFFFF;\n",
              "    }\n",
              "  </style>\n",
              "\n",
              "      <script>\n",
              "        const buttonEl =\n",
              "          document.querySelector('#df-465abb04-50d5-4120-9266-16a236816173 button.colab-df-convert');\n",
              "        buttonEl.style.display =\n",
              "          google.colab.kernel.accessAllowed ? 'block' : 'none';\n",
              "\n",
              "        async function convertToInteractive(key) {\n",
              "          const element = document.querySelector('#df-465abb04-50d5-4120-9266-16a236816173');\n",
              "          const dataTable =\n",
              "            await google.colab.kernel.invokeFunction('convertToInteractive',\n",
              "                                                     [key], {});\n",
              "          if (!dataTable) return;\n",
              "\n",
              "          const docLinkHtml = 'Like what you see? Visit the ' +\n",
              "            '<a target=\"_blank\" href=https://colab.research.google.com/notebooks/data_table.ipynb>data table notebook</a>'\n",
              "            + ' to learn more about interactive tables.';\n",
              "          element.innerHTML = '';\n",
              "          dataTable['output_type'] = 'display_data';\n",
              "          await google.colab.output.renderOutput(dataTable, element);\n",
              "          const docLink = document.createElement('div');\n",
              "          docLink.innerHTML = docLinkHtml;\n",
              "          element.appendChild(docLink);\n",
              "        }\n",
              "      </script>\n",
              "    </div>\n",
              "  </div>\n",
              "  "
            ]
          },
          "metadata": {},
          "execution_count": 19
        }
      ]
    },
    {
      "cell_type": "code",
      "source": [
        "df.drop_duplicates(subset='Names', keep=False)"
      ],
      "metadata": {
        "id": "NwbJUZwFl45z",
        "colab": {
          "base_uri": "https://localhost:8080/",
          "height": 237
        },
        "outputId": "79365847-513d-4826-8164-e5b12a017d94"
      },
      "execution_count": 20,
      "outputs": [
        {
          "output_type": "execute_result",
          "data": {
            "text/plain": [
              "    Names  Marks        City\n",
              "1  Allafa     89  Yogyakarta\n",
              "2  Abdiel     90        Solo\n",
              "3    Ipin     45    Surabaya\n",
              "4    Ibnu     34     Makasar\n",
              "5   Rifal     65      Malang\n",
              "6  Haidar     77  Yogyakarta"
            ],
            "text/html": [
              "\n",
              "  <div id=\"df-061e1e26-ae01-4a07-9b85-6b352a3c8408\">\n",
              "    <div class=\"colab-df-container\">\n",
              "      <div>\n",
              "<style scoped>\n",
              "    .dataframe tbody tr th:only-of-type {\n",
              "        vertical-align: middle;\n",
              "    }\n",
              "\n",
              "    .dataframe tbody tr th {\n",
              "        vertical-align: top;\n",
              "    }\n",
              "\n",
              "    .dataframe thead th {\n",
              "        text-align: right;\n",
              "    }\n",
              "</style>\n",
              "<table border=\"1\" class=\"dataframe\">\n",
              "  <thead>\n",
              "    <tr style=\"text-align: right;\">\n",
              "      <th></th>\n",
              "      <th>Names</th>\n",
              "      <th>Marks</th>\n",
              "      <th>City</th>\n",
              "    </tr>\n",
              "  </thead>\n",
              "  <tbody>\n",
              "    <tr>\n",
              "      <th>1</th>\n",
              "      <td>Allafa</td>\n",
              "      <td>89</td>\n",
              "      <td>Yogyakarta</td>\n",
              "    </tr>\n",
              "    <tr>\n",
              "      <th>2</th>\n",
              "      <td>Abdiel</td>\n",
              "      <td>90</td>\n",
              "      <td>Solo</td>\n",
              "    </tr>\n",
              "    <tr>\n",
              "      <th>3</th>\n",
              "      <td>Ipin</td>\n",
              "      <td>45</td>\n",
              "      <td>Surabaya</td>\n",
              "    </tr>\n",
              "    <tr>\n",
              "      <th>4</th>\n",
              "      <td>Ibnu</td>\n",
              "      <td>34</td>\n",
              "      <td>Makasar</td>\n",
              "    </tr>\n",
              "    <tr>\n",
              "      <th>5</th>\n",
              "      <td>Rifal</td>\n",
              "      <td>65</td>\n",
              "      <td>Malang</td>\n",
              "    </tr>\n",
              "    <tr>\n",
              "      <th>6</th>\n",
              "      <td>Haidar</td>\n",
              "      <td>77</td>\n",
              "      <td>Yogyakarta</td>\n",
              "    </tr>\n",
              "  </tbody>\n",
              "</table>\n",
              "</div>\n",
              "      <button class=\"colab-df-convert\" onclick=\"convertToInteractive('df-061e1e26-ae01-4a07-9b85-6b352a3c8408')\"\n",
              "              title=\"Convert this dataframe to an interactive table.\"\n",
              "              style=\"display:none;\">\n",
              "        \n",
              "  <svg xmlns=\"http://www.w3.org/2000/svg\" height=\"24px\"viewBox=\"0 0 24 24\"\n",
              "       width=\"24px\">\n",
              "    <path d=\"M0 0h24v24H0V0z\" fill=\"none\"/>\n",
              "    <path d=\"M18.56 5.44l.94 2.06.94-2.06 2.06-.94-2.06-.94-.94-2.06-.94 2.06-2.06.94zm-11 1L8.5 8.5l.94-2.06 2.06-.94-2.06-.94L8.5 2.5l-.94 2.06-2.06.94zm10 10l.94 2.06.94-2.06 2.06-.94-2.06-.94-.94-2.06-.94 2.06-2.06.94z\"/><path d=\"M17.41 7.96l-1.37-1.37c-.4-.4-.92-.59-1.43-.59-.52 0-1.04.2-1.43.59L10.3 9.45l-7.72 7.72c-.78.78-.78 2.05 0 2.83L4 21.41c.39.39.9.59 1.41.59.51 0 1.02-.2 1.41-.59l7.78-7.78 2.81-2.81c.8-.78.8-2.07 0-2.86zM5.41 20L4 18.59l7.72-7.72 1.47 1.35L5.41 20z\"/>\n",
              "  </svg>\n",
              "      </button>\n",
              "      \n",
              "  <style>\n",
              "    .colab-df-container {\n",
              "      display:flex;\n",
              "      flex-wrap:wrap;\n",
              "      gap: 12px;\n",
              "    }\n",
              "\n",
              "    .colab-df-convert {\n",
              "      background-color: #E8F0FE;\n",
              "      border: none;\n",
              "      border-radius: 50%;\n",
              "      cursor: pointer;\n",
              "      display: none;\n",
              "      fill: #1967D2;\n",
              "      height: 32px;\n",
              "      padding: 0 0 0 0;\n",
              "      width: 32px;\n",
              "    }\n",
              "\n",
              "    .colab-df-convert:hover {\n",
              "      background-color: #E2EBFA;\n",
              "      box-shadow: 0px 1px 2px rgba(60, 64, 67, 0.3), 0px 1px 3px 1px rgba(60, 64, 67, 0.15);\n",
              "      fill: #174EA6;\n",
              "    }\n",
              "\n",
              "    [theme=dark] .colab-df-convert {\n",
              "      background-color: #3B4455;\n",
              "      fill: #D2E3FC;\n",
              "    }\n",
              "\n",
              "    [theme=dark] .colab-df-convert:hover {\n",
              "      background-color: #434B5C;\n",
              "      box-shadow: 0px 1px 3px 1px rgba(0, 0, 0, 0.15);\n",
              "      filter: drop-shadow(0px 1px 2px rgba(0, 0, 0, 0.3));\n",
              "      fill: #FFFFFF;\n",
              "    }\n",
              "  </style>\n",
              "\n",
              "      <script>\n",
              "        const buttonEl =\n",
              "          document.querySelector('#df-061e1e26-ae01-4a07-9b85-6b352a3c8408 button.colab-df-convert');\n",
              "        buttonEl.style.display =\n",
              "          google.colab.kernel.accessAllowed ? 'block' : 'none';\n",
              "\n",
              "        async function convertToInteractive(key) {\n",
              "          const element = document.querySelector('#df-061e1e26-ae01-4a07-9b85-6b352a3c8408');\n",
              "          const dataTable =\n",
              "            await google.colab.kernel.invokeFunction('convertToInteractive',\n",
              "                                                     [key], {});\n",
              "          if (!dataTable) return;\n",
              "\n",
              "          const docLinkHtml = 'Like what you see? Visit the ' +\n",
              "            '<a target=\"_blank\" href=https://colab.research.google.com/notebooks/data_table.ipynb>data table notebook</a>'\n",
              "            + ' to learn more about interactive tables.';\n",
              "          element.innerHTML = '';\n",
              "          dataTable['output_type'] = 'display_data';\n",
              "          await google.colab.output.renderOutput(dataTable, element);\n",
              "          const docLink = document.createElement('div');\n",
              "          docLink.innerHTML = docLinkHtml;\n",
              "          element.appendChild(docLink);\n",
              "        }\n",
              "      </script>\n",
              "    </div>\n",
              "  </div>\n",
              "  "
            ]
          },
          "metadata": {},
          "execution_count": 20
        }
      ]
    },
    {
      "cell_type": "code",
      "source": [
        "df.drop_duplicates(subset='Names', keep=False, inplace=True)\n",
        "df"
      ],
      "metadata": {
        "id": "SZ3-Wvgsl4pY",
        "colab": {
          "base_uri": "https://localhost:8080/",
          "height": 237
        },
        "outputId": "c5e7e5cb-8b01-430d-b4cf-4e46e0f6e571"
      },
      "execution_count": 21,
      "outputs": [
        {
          "output_type": "execute_result",
          "data": {
            "text/plain": [
              "    Names  Marks        City\n",
              "1  Allafa     89  Yogyakarta\n",
              "2  Abdiel     90        Solo\n",
              "3    Ipin     45    Surabaya\n",
              "4    Ibnu     34     Makasar\n",
              "5   Rifal     65      Malang\n",
              "6  Haidar     77  Yogyakarta"
            ],
            "text/html": [
              "\n",
              "  <div id=\"df-cad35be4-9ea2-4985-b06f-4d90a2047ca3\">\n",
              "    <div class=\"colab-df-container\">\n",
              "      <div>\n",
              "<style scoped>\n",
              "    .dataframe tbody tr th:only-of-type {\n",
              "        vertical-align: middle;\n",
              "    }\n",
              "\n",
              "    .dataframe tbody tr th {\n",
              "        vertical-align: top;\n",
              "    }\n",
              "\n",
              "    .dataframe thead th {\n",
              "        text-align: right;\n",
              "    }\n",
              "</style>\n",
              "<table border=\"1\" class=\"dataframe\">\n",
              "  <thead>\n",
              "    <tr style=\"text-align: right;\">\n",
              "      <th></th>\n",
              "      <th>Names</th>\n",
              "      <th>Marks</th>\n",
              "      <th>City</th>\n",
              "    </tr>\n",
              "  </thead>\n",
              "  <tbody>\n",
              "    <tr>\n",
              "      <th>1</th>\n",
              "      <td>Allafa</td>\n",
              "      <td>89</td>\n",
              "      <td>Yogyakarta</td>\n",
              "    </tr>\n",
              "    <tr>\n",
              "      <th>2</th>\n",
              "      <td>Abdiel</td>\n",
              "      <td>90</td>\n",
              "      <td>Solo</td>\n",
              "    </tr>\n",
              "    <tr>\n",
              "      <th>3</th>\n",
              "      <td>Ipin</td>\n",
              "      <td>45</td>\n",
              "      <td>Surabaya</td>\n",
              "    </tr>\n",
              "    <tr>\n",
              "      <th>4</th>\n",
              "      <td>Ibnu</td>\n",
              "      <td>34</td>\n",
              "      <td>Makasar</td>\n",
              "    </tr>\n",
              "    <tr>\n",
              "      <th>5</th>\n",
              "      <td>Rifal</td>\n",
              "      <td>65</td>\n",
              "      <td>Malang</td>\n",
              "    </tr>\n",
              "    <tr>\n",
              "      <th>6</th>\n",
              "      <td>Haidar</td>\n",
              "      <td>77</td>\n",
              "      <td>Yogyakarta</td>\n",
              "    </tr>\n",
              "  </tbody>\n",
              "</table>\n",
              "</div>\n",
              "      <button class=\"colab-df-convert\" onclick=\"convertToInteractive('df-cad35be4-9ea2-4985-b06f-4d90a2047ca3')\"\n",
              "              title=\"Convert this dataframe to an interactive table.\"\n",
              "              style=\"display:none;\">\n",
              "        \n",
              "  <svg xmlns=\"http://www.w3.org/2000/svg\" height=\"24px\"viewBox=\"0 0 24 24\"\n",
              "       width=\"24px\">\n",
              "    <path d=\"M0 0h24v24H0V0z\" fill=\"none\"/>\n",
              "    <path d=\"M18.56 5.44l.94 2.06.94-2.06 2.06-.94-2.06-.94-.94-2.06-.94 2.06-2.06.94zm-11 1L8.5 8.5l.94-2.06 2.06-.94-2.06-.94L8.5 2.5l-.94 2.06-2.06.94zm10 10l.94 2.06.94-2.06 2.06-.94-2.06-.94-.94-2.06-.94 2.06-2.06.94z\"/><path d=\"M17.41 7.96l-1.37-1.37c-.4-.4-.92-.59-1.43-.59-.52 0-1.04.2-1.43.59L10.3 9.45l-7.72 7.72c-.78.78-.78 2.05 0 2.83L4 21.41c.39.39.9.59 1.41.59.51 0 1.02-.2 1.41-.59l7.78-7.78 2.81-2.81c.8-.78.8-2.07 0-2.86zM5.41 20L4 18.59l7.72-7.72 1.47 1.35L5.41 20z\"/>\n",
              "  </svg>\n",
              "      </button>\n",
              "      \n",
              "  <style>\n",
              "    .colab-df-container {\n",
              "      display:flex;\n",
              "      flex-wrap:wrap;\n",
              "      gap: 12px;\n",
              "    }\n",
              "\n",
              "    .colab-df-convert {\n",
              "      background-color: #E8F0FE;\n",
              "      border: none;\n",
              "      border-radius: 50%;\n",
              "      cursor: pointer;\n",
              "      display: none;\n",
              "      fill: #1967D2;\n",
              "      height: 32px;\n",
              "      padding: 0 0 0 0;\n",
              "      width: 32px;\n",
              "    }\n",
              "\n",
              "    .colab-df-convert:hover {\n",
              "      background-color: #E2EBFA;\n",
              "      box-shadow: 0px 1px 2px rgba(60, 64, 67, 0.3), 0px 1px 3px 1px rgba(60, 64, 67, 0.15);\n",
              "      fill: #174EA6;\n",
              "    }\n",
              "\n",
              "    [theme=dark] .colab-df-convert {\n",
              "      background-color: #3B4455;\n",
              "      fill: #D2E3FC;\n",
              "    }\n",
              "\n",
              "    [theme=dark] .colab-df-convert:hover {\n",
              "      background-color: #434B5C;\n",
              "      box-shadow: 0px 1px 3px 1px rgba(0, 0, 0, 0.15);\n",
              "      filter: drop-shadow(0px 1px 2px rgba(0, 0, 0, 0.3));\n",
              "      fill: #FFFFFF;\n",
              "    }\n",
              "  </style>\n",
              "\n",
              "      <script>\n",
              "        const buttonEl =\n",
              "          document.querySelector('#df-cad35be4-9ea2-4985-b06f-4d90a2047ca3 button.colab-df-convert');\n",
              "        buttonEl.style.display =\n",
              "          google.colab.kernel.accessAllowed ? 'block' : 'none';\n",
              "\n",
              "        async function convertToInteractive(key) {\n",
              "          const element = document.querySelector('#df-cad35be4-9ea2-4985-b06f-4d90a2047ca3');\n",
              "          const dataTable =\n",
              "            await google.colab.kernel.invokeFunction('convertToInteractive',\n",
              "                                                     [key], {});\n",
              "          if (!dataTable) return;\n",
              "\n",
              "          const docLinkHtml = 'Like what you see? Visit the ' +\n",
              "            '<a target=\"_blank\" href=https://colab.research.google.com/notebooks/data_table.ipynb>data table notebook</a>'\n",
              "            + ' to learn more about interactive tables.';\n",
              "          element.innerHTML = '';\n",
              "          dataTable['output_type'] = 'display_data';\n",
              "          await google.colab.output.renderOutput(dataTable, element);\n",
              "          const docLink = document.createElement('div');\n",
              "          docLink.innerHTML = docLinkHtml;\n",
              "          element.appendChild(docLink);\n",
              "        }\n",
              "      </script>\n",
              "    </div>\n",
              "  </div>\n",
              "  "
            ]
          },
          "metadata": {},
          "execution_count": 21
        }
      ]
    },
    {
      "cell_type": "markdown",
      "source": [
        "# 2. Data Integration\n"
      ],
      "metadata": {
        "id": "94dVabSRAIot"
      }
    },
    {
      "cell_type": "markdown",
      "source": [
        "Sejauh ini, kami telah memastikan untuk menghilangkan pengotor dalam data\n",
        "dan membuatnya bersih. Sekarang, langkah selanjutnya adalah menggabungkan data dari berbagai sumber untuk mendapatkan struktur terpadu dengan informasi yang lebih bermakna dan berharga. Ini sebagian besar digunakan jika data dipisahkan ke dalam sumber yang berbeda. Untuk membuatnya sederhana, mari kita asumsikan kita memiliki data dalam format CSV di tempat yang berbeda, semuanya berbicara tentang skenario yang sama. Katakanlah kita memiliki beberapa data tentang seorang karyawan dalam database. Kami tidak dapat mengharapkan semua data tentang karyawan berada di tabel yang sama. Ada kemungkinan bahwa data pribadi karyawan akan ditempatkan di satu tabel, riwayat proyek karyawan akan berada di tabel kedua, detail waktu masuk dan waktu keluar karyawan akan berada di tabel lain, dan seterusnya. Jadi, jika kita ingin melakukan beberapa analisis tentang karyawan, kita perlu mendapatkan semua data karyawan di satu tempat yang sama. Proses menyatukan data di satu tempat ini disebut integrasi data. Untuk melakukan integrasi data, kita dapat menggabungkan beberapa panda DataFrames menggunakan fungsi **merge**."
      ],
      "metadata": {
        "id": "bh8xOo-1Anx9"
      }
    },
    {
      "cell_type": "markdown",
      "source": [
        "Dalam latihan ini, kita akan menggabungkan rincian siswa dari dua dataset, yaitu student.csv dan marks.csv. Dataset siswa berisi kolom seperti jenis kelamin, ras/etnis, tingkat pendidikan orang tua, dan makan siang. Kumpulan data marks.csv berisi kolom seperti kursus persiapan ujian, skor matematika, skor membaca,dan skor menulis. Kolom Student_id adalah umum di antara dua kumpulan data. Ikuti langkah-langkah ini untuk menyelesaikan latihan ini:"
      ],
      "metadata": {
        "id": "BpYetJ1dAzPP"
      }
    },
    {
      "cell_type": "markdown",
      "source": [
        "Dapat di download datasetnya: \n",
        "\n",
        "\n",
        "1.   Student: https://drive.google.com/file/d/1LqhvBTu43Vl_yxAdkv2n01eg4ZOdYRUp/view?usp=sharing\n",
        "2.   \n",
        "Mark : https://drive.google.com/file/d/1Lmrmp7t6Aco_a8yIF7m037N2EsV95I_g/view?usp=sharing\n",
        "\n",
        "\n",
        "\n",
        "\n"
      ],
      "metadata": {
        "id": "rxPw-I-3Bu9j"
      }
    },
    {
      "cell_type": "code",
      "source": [
        "# Input Dataset \n",
        "dataset1 = \"/content/Students.csv\"\n",
        "dataset2 = \"/content/Mark.csv\""
      ],
      "metadata": {
        "id": "RCPJO_uqCR2q"
      },
      "execution_count": 22,
      "outputs": []
    },
    {
      "cell_type": "code",
      "source": [
        "# Define Dataset\n",
        "df1 = pd.read_csv(dataset1, header = 0)\n",
        "\n",
        "df2 = pd.read_csv(dataset2, header = 0)"
      ],
      "metadata": {
        "id": "bGHR37xWAnQt"
      },
      "execution_count": 23,
      "outputs": []
    },
    {
      "cell_type": "code",
      "source": [
        "# Cek Dataset\n",
        "df1.head()"
      ],
      "metadata": {
        "id": "Bbs8AuBvCsxT",
        "outputId": "e133f65e-5421-497c-e1c5-d995b5989c5f",
        "colab": {
          "base_uri": "https://localhost:8080/",
          "height": 206
        }
      },
      "execution_count": 24,
      "outputs": [
        {
          "output_type": "execute_result",
          "data": {
            "text/plain": [
              "   student ID  gender race/ethnicity parental level of education         lunch\n",
              "0           1  female        group B           bachelor's degree      standard\n",
              "1           2  female        group C                some college      standard\n",
              "2           3  female        group B             master's degree      standard\n",
              "3           4    male        group A          associate's degree  free/reduced\n",
              "4           5    male        group C                some college      standard"
            ],
            "text/html": [
              "\n",
              "  <div id=\"df-78a02668-8ccb-462b-b80f-815fce38bb9e\">\n",
              "    <div class=\"colab-df-container\">\n",
              "      <div>\n",
              "<style scoped>\n",
              "    .dataframe tbody tr th:only-of-type {\n",
              "        vertical-align: middle;\n",
              "    }\n",
              "\n",
              "    .dataframe tbody tr th {\n",
              "        vertical-align: top;\n",
              "    }\n",
              "\n",
              "    .dataframe thead th {\n",
              "        text-align: right;\n",
              "    }\n",
              "</style>\n",
              "<table border=\"1\" class=\"dataframe\">\n",
              "  <thead>\n",
              "    <tr style=\"text-align: right;\">\n",
              "      <th></th>\n",
              "      <th>student ID</th>\n",
              "      <th>gender</th>\n",
              "      <th>race/ethnicity</th>\n",
              "      <th>parental level of education</th>\n",
              "      <th>lunch</th>\n",
              "    </tr>\n",
              "  </thead>\n",
              "  <tbody>\n",
              "    <tr>\n",
              "      <th>0</th>\n",
              "      <td>1</td>\n",
              "      <td>female</td>\n",
              "      <td>group B</td>\n",
              "      <td>bachelor's degree</td>\n",
              "      <td>standard</td>\n",
              "    </tr>\n",
              "    <tr>\n",
              "      <th>1</th>\n",
              "      <td>2</td>\n",
              "      <td>female</td>\n",
              "      <td>group C</td>\n",
              "      <td>some college</td>\n",
              "      <td>standard</td>\n",
              "    </tr>\n",
              "    <tr>\n",
              "      <th>2</th>\n",
              "      <td>3</td>\n",
              "      <td>female</td>\n",
              "      <td>group B</td>\n",
              "      <td>master's degree</td>\n",
              "      <td>standard</td>\n",
              "    </tr>\n",
              "    <tr>\n",
              "      <th>3</th>\n",
              "      <td>4</td>\n",
              "      <td>male</td>\n",
              "      <td>group A</td>\n",
              "      <td>associate's degree</td>\n",
              "      <td>free/reduced</td>\n",
              "    </tr>\n",
              "    <tr>\n",
              "      <th>4</th>\n",
              "      <td>5</td>\n",
              "      <td>male</td>\n",
              "      <td>group C</td>\n",
              "      <td>some college</td>\n",
              "      <td>standard</td>\n",
              "    </tr>\n",
              "  </tbody>\n",
              "</table>\n",
              "</div>\n",
              "      <button class=\"colab-df-convert\" onclick=\"convertToInteractive('df-78a02668-8ccb-462b-b80f-815fce38bb9e')\"\n",
              "              title=\"Convert this dataframe to an interactive table.\"\n",
              "              style=\"display:none;\">\n",
              "        \n",
              "  <svg xmlns=\"http://www.w3.org/2000/svg\" height=\"24px\"viewBox=\"0 0 24 24\"\n",
              "       width=\"24px\">\n",
              "    <path d=\"M0 0h24v24H0V0z\" fill=\"none\"/>\n",
              "    <path d=\"M18.56 5.44l.94 2.06.94-2.06 2.06-.94-2.06-.94-.94-2.06-.94 2.06-2.06.94zm-11 1L8.5 8.5l.94-2.06 2.06-.94-2.06-.94L8.5 2.5l-.94 2.06-2.06.94zm10 10l.94 2.06.94-2.06 2.06-.94-2.06-.94-.94-2.06-.94 2.06-2.06.94z\"/><path d=\"M17.41 7.96l-1.37-1.37c-.4-.4-.92-.59-1.43-.59-.52 0-1.04.2-1.43.59L10.3 9.45l-7.72 7.72c-.78.78-.78 2.05 0 2.83L4 21.41c.39.39.9.59 1.41.59.51 0 1.02-.2 1.41-.59l7.78-7.78 2.81-2.81c.8-.78.8-2.07 0-2.86zM5.41 20L4 18.59l7.72-7.72 1.47 1.35L5.41 20z\"/>\n",
              "  </svg>\n",
              "      </button>\n",
              "      \n",
              "  <style>\n",
              "    .colab-df-container {\n",
              "      display:flex;\n",
              "      flex-wrap:wrap;\n",
              "      gap: 12px;\n",
              "    }\n",
              "\n",
              "    .colab-df-convert {\n",
              "      background-color: #E8F0FE;\n",
              "      border: none;\n",
              "      border-radius: 50%;\n",
              "      cursor: pointer;\n",
              "      display: none;\n",
              "      fill: #1967D2;\n",
              "      height: 32px;\n",
              "      padding: 0 0 0 0;\n",
              "      width: 32px;\n",
              "    }\n",
              "\n",
              "    .colab-df-convert:hover {\n",
              "      background-color: #E2EBFA;\n",
              "      box-shadow: 0px 1px 2px rgba(60, 64, 67, 0.3), 0px 1px 3px 1px rgba(60, 64, 67, 0.15);\n",
              "      fill: #174EA6;\n",
              "    }\n",
              "\n",
              "    [theme=dark] .colab-df-convert {\n",
              "      background-color: #3B4455;\n",
              "      fill: #D2E3FC;\n",
              "    }\n",
              "\n",
              "    [theme=dark] .colab-df-convert:hover {\n",
              "      background-color: #434B5C;\n",
              "      box-shadow: 0px 1px 3px 1px rgba(0, 0, 0, 0.15);\n",
              "      filter: drop-shadow(0px 1px 2px rgba(0, 0, 0, 0.3));\n",
              "      fill: #FFFFFF;\n",
              "    }\n",
              "  </style>\n",
              "\n",
              "      <script>\n",
              "        const buttonEl =\n",
              "          document.querySelector('#df-78a02668-8ccb-462b-b80f-815fce38bb9e button.colab-df-convert');\n",
              "        buttonEl.style.display =\n",
              "          google.colab.kernel.accessAllowed ? 'block' : 'none';\n",
              "\n",
              "        async function convertToInteractive(key) {\n",
              "          const element = document.querySelector('#df-78a02668-8ccb-462b-b80f-815fce38bb9e');\n",
              "          const dataTable =\n",
              "            await google.colab.kernel.invokeFunction('convertToInteractive',\n",
              "                                                     [key], {});\n",
              "          if (!dataTable) return;\n",
              "\n",
              "          const docLinkHtml = 'Like what you see? Visit the ' +\n",
              "            '<a target=\"_blank\" href=https://colab.research.google.com/notebooks/data_table.ipynb>data table notebook</a>'\n",
              "            + ' to learn more about interactive tables.';\n",
              "          element.innerHTML = '';\n",
              "          dataTable['output_type'] = 'display_data';\n",
              "          await google.colab.output.renderOutput(dataTable, element);\n",
              "          const docLink = document.createElement('div');\n",
              "          docLink.innerHTML = docLinkHtml;\n",
              "          element.appendChild(docLink);\n",
              "        }\n",
              "      </script>\n",
              "    </div>\n",
              "  </div>\n",
              "  "
            ]
          },
          "metadata": {},
          "execution_count": 24
        }
      ]
    },
    {
      "cell_type": "code",
      "source": [
        "df2.head()"
      ],
      "metadata": {
        "id": "eSylW0ouCvRM",
        "outputId": "cd697438-68c1-4a3c-e09d-609742a7bc6b",
        "colab": {
          "base_uri": "https://localhost:8080/",
          "height": 206
        }
      },
      "execution_count": 25,
      "outputs": [
        {
          "output_type": "execute_result",
          "data": {
            "text/plain": [
              "   student ID test preparation course  math score  reading score  \\\n",
              "0           1                    none          72             72   \n",
              "1           2               completed          69             90   \n",
              "2           3                    none          90             95   \n",
              "3           4                    none          47             57   \n",
              "4           5                    none          76             78   \n",
              "\n",
              "   writing score  \n",
              "0             74  \n",
              "1             88  \n",
              "2             93  \n",
              "3             44  \n",
              "4             75  "
            ],
            "text/html": [
              "\n",
              "  <div id=\"df-b7c43c42-dc7a-4224-a15a-66086c7065cb\">\n",
              "    <div class=\"colab-df-container\">\n",
              "      <div>\n",
              "<style scoped>\n",
              "    .dataframe tbody tr th:only-of-type {\n",
              "        vertical-align: middle;\n",
              "    }\n",
              "\n",
              "    .dataframe tbody tr th {\n",
              "        vertical-align: top;\n",
              "    }\n",
              "\n",
              "    .dataframe thead th {\n",
              "        text-align: right;\n",
              "    }\n",
              "</style>\n",
              "<table border=\"1\" class=\"dataframe\">\n",
              "  <thead>\n",
              "    <tr style=\"text-align: right;\">\n",
              "      <th></th>\n",
              "      <th>student ID</th>\n",
              "      <th>test preparation course</th>\n",
              "      <th>math score</th>\n",
              "      <th>reading score</th>\n",
              "      <th>writing score</th>\n",
              "    </tr>\n",
              "  </thead>\n",
              "  <tbody>\n",
              "    <tr>\n",
              "      <th>0</th>\n",
              "      <td>1</td>\n",
              "      <td>none</td>\n",
              "      <td>72</td>\n",
              "      <td>72</td>\n",
              "      <td>74</td>\n",
              "    </tr>\n",
              "    <tr>\n",
              "      <th>1</th>\n",
              "      <td>2</td>\n",
              "      <td>completed</td>\n",
              "      <td>69</td>\n",
              "      <td>90</td>\n",
              "      <td>88</td>\n",
              "    </tr>\n",
              "    <tr>\n",
              "      <th>2</th>\n",
              "      <td>3</td>\n",
              "      <td>none</td>\n",
              "      <td>90</td>\n",
              "      <td>95</td>\n",
              "      <td>93</td>\n",
              "    </tr>\n",
              "    <tr>\n",
              "      <th>3</th>\n",
              "      <td>4</td>\n",
              "      <td>none</td>\n",
              "      <td>47</td>\n",
              "      <td>57</td>\n",
              "      <td>44</td>\n",
              "    </tr>\n",
              "    <tr>\n",
              "      <th>4</th>\n",
              "      <td>5</td>\n",
              "      <td>none</td>\n",
              "      <td>76</td>\n",
              "      <td>78</td>\n",
              "      <td>75</td>\n",
              "    </tr>\n",
              "  </tbody>\n",
              "</table>\n",
              "</div>\n",
              "      <button class=\"colab-df-convert\" onclick=\"convertToInteractive('df-b7c43c42-dc7a-4224-a15a-66086c7065cb')\"\n",
              "              title=\"Convert this dataframe to an interactive table.\"\n",
              "              style=\"display:none;\">\n",
              "        \n",
              "  <svg xmlns=\"http://www.w3.org/2000/svg\" height=\"24px\"viewBox=\"0 0 24 24\"\n",
              "       width=\"24px\">\n",
              "    <path d=\"M0 0h24v24H0V0z\" fill=\"none\"/>\n",
              "    <path d=\"M18.56 5.44l.94 2.06.94-2.06 2.06-.94-2.06-.94-.94-2.06-.94 2.06-2.06.94zm-11 1L8.5 8.5l.94-2.06 2.06-.94-2.06-.94L8.5 2.5l-.94 2.06-2.06.94zm10 10l.94 2.06.94-2.06 2.06-.94-2.06-.94-.94-2.06-.94 2.06-2.06.94z\"/><path d=\"M17.41 7.96l-1.37-1.37c-.4-.4-.92-.59-1.43-.59-.52 0-1.04.2-1.43.59L10.3 9.45l-7.72 7.72c-.78.78-.78 2.05 0 2.83L4 21.41c.39.39.9.59 1.41.59.51 0 1.02-.2 1.41-.59l7.78-7.78 2.81-2.81c.8-.78.8-2.07 0-2.86zM5.41 20L4 18.59l7.72-7.72 1.47 1.35L5.41 20z\"/>\n",
              "  </svg>\n",
              "      </button>\n",
              "      \n",
              "  <style>\n",
              "    .colab-df-container {\n",
              "      display:flex;\n",
              "      flex-wrap:wrap;\n",
              "      gap: 12px;\n",
              "    }\n",
              "\n",
              "    .colab-df-convert {\n",
              "      background-color: #E8F0FE;\n",
              "      border: none;\n",
              "      border-radius: 50%;\n",
              "      cursor: pointer;\n",
              "      display: none;\n",
              "      fill: #1967D2;\n",
              "      height: 32px;\n",
              "      padding: 0 0 0 0;\n",
              "      width: 32px;\n",
              "    }\n",
              "\n",
              "    .colab-df-convert:hover {\n",
              "      background-color: #E2EBFA;\n",
              "      box-shadow: 0px 1px 2px rgba(60, 64, 67, 0.3), 0px 1px 3px 1px rgba(60, 64, 67, 0.15);\n",
              "      fill: #174EA6;\n",
              "    }\n",
              "\n",
              "    [theme=dark] .colab-df-convert {\n",
              "      background-color: #3B4455;\n",
              "      fill: #D2E3FC;\n",
              "    }\n",
              "\n",
              "    [theme=dark] .colab-df-convert:hover {\n",
              "      background-color: #434B5C;\n",
              "      box-shadow: 0px 1px 3px 1px rgba(0, 0, 0, 0.15);\n",
              "      filter: drop-shadow(0px 1px 2px rgba(0, 0, 0, 0.3));\n",
              "      fill: #FFFFFF;\n",
              "    }\n",
              "  </style>\n",
              "\n",
              "      <script>\n",
              "        const buttonEl =\n",
              "          document.querySelector('#df-b7c43c42-dc7a-4224-a15a-66086c7065cb button.colab-df-convert');\n",
              "        buttonEl.style.display =\n",
              "          google.colab.kernel.accessAllowed ? 'block' : 'none';\n",
              "\n",
              "        async function convertToInteractive(key) {\n",
              "          const element = document.querySelector('#df-b7c43c42-dc7a-4224-a15a-66086c7065cb');\n",
              "          const dataTable =\n",
              "            await google.colab.kernel.invokeFunction('convertToInteractive',\n",
              "                                                     [key], {});\n",
              "          if (!dataTable) return;\n",
              "\n",
              "          const docLinkHtml = 'Like what you see? Visit the ' +\n",
              "            '<a target=\"_blank\" href=https://colab.research.google.com/notebooks/data_table.ipynb>data table notebook</a>'\n",
              "            + ' to learn more about interactive tables.';\n",
              "          element.innerHTML = '';\n",
              "          dataTable['output_type'] = 'display_data';\n",
              "          await google.colab.output.renderOutput(dataTable, element);\n",
              "          const docLink = document.createElement('div');\n",
              "          docLink.innerHTML = docLinkHtml;\n",
              "          element.appendChild(docLink);\n",
              "        }\n",
              "      </script>\n",
              "    </div>\n",
              "  </div>\n",
              "  "
            ]
          },
          "metadata": {},
          "execution_count": 25
        }
      ]
    },
    {
      "cell_type": "markdown",
      "source": [
        "Dapat dilihat memiliki dua dataset yang berbeda, dan kami bisa anggap bahwa darikedua dataset tersebut diperoleh dari kedua divisi yang berbeda di sekolah. Oleh karena itu sekarang proses integrasi data adalah pelemburan antara kedua dataset tersebut untuk dapat menjadi satu dataset yang baru, denagn syarat kedua dataset terintegrasi melalui column student ID. "
      ],
      "metadata": {
        "id": "lk4G9goLCzyD"
      }
    },
    {
      "cell_type": "code",
      "source": [
        "# Integrasi Data\n",
        "df = pd.merge(df1, df2, on = 'student ID')"
      ],
      "metadata": {
        "id": "vYNIyAdKDSyx"
      },
      "execution_count": 26,
      "outputs": []
    },
    {
      "cell_type": "markdown",
      "source": [
        "Sesudah terjadi integrasi data, maka dapat dilihat pada dataset yang baru."
      ],
      "metadata": {
        "id": "WNxzXuLgEiPq"
      }
    },
    {
      "cell_type": "code",
      "source": [
        "df.head(10)"
      ],
      "metadata": {
        "id": "538a6ArPEp6L",
        "outputId": "87c64477-ee89-4b58-d7df-65f5fb871854",
        "colab": {
          "base_uri": "https://localhost:8080/",
          "height": 424
        }
      },
      "execution_count": 27,
      "outputs": [
        {
          "output_type": "execute_result",
          "data": {
            "text/plain": [
              "   student ID  gender race/ethnicity parental level of education  \\\n",
              "0           1  female        group B           bachelor's degree   \n",
              "1           2  female        group C                some college   \n",
              "2           3  female        group B             master's degree   \n",
              "3           4    male        group A          associate's degree   \n",
              "4           5    male        group C                some college   \n",
              "5           6  female        group B          associate's degree   \n",
              "6           7  female        group B                some college   \n",
              "7           8    male        group B                some college   \n",
              "8           9    male        group D                 high school   \n",
              "9          10  female        group B                 high school   \n",
              "\n",
              "          lunch test preparation course  math score  reading score  \\\n",
              "0      standard                    none          72             72   \n",
              "1      standard               completed          69             90   \n",
              "2      standard                    none          90             95   \n",
              "3  free/reduced                    none          47             57   \n",
              "4      standard                    none          76             78   \n",
              "5      standard                    none          71             83   \n",
              "6      standard               completed          88             95   \n",
              "7  free/reduced                    none          40             43   \n",
              "8  free/reduced               completed          64             64   \n",
              "9  free/reduced                    none          38             60   \n",
              "\n",
              "   writing score  \n",
              "0             74  \n",
              "1             88  \n",
              "2             93  \n",
              "3             44  \n",
              "4             75  \n",
              "5             78  \n",
              "6             92  \n",
              "7             39  \n",
              "8             67  \n",
              "9             50  "
            ],
            "text/html": [
              "\n",
              "  <div id=\"df-6cba92da-7a92-496b-95b0-2df93211c216\">\n",
              "    <div class=\"colab-df-container\">\n",
              "      <div>\n",
              "<style scoped>\n",
              "    .dataframe tbody tr th:only-of-type {\n",
              "        vertical-align: middle;\n",
              "    }\n",
              "\n",
              "    .dataframe tbody tr th {\n",
              "        vertical-align: top;\n",
              "    }\n",
              "\n",
              "    .dataframe thead th {\n",
              "        text-align: right;\n",
              "    }\n",
              "</style>\n",
              "<table border=\"1\" class=\"dataframe\">\n",
              "  <thead>\n",
              "    <tr style=\"text-align: right;\">\n",
              "      <th></th>\n",
              "      <th>student ID</th>\n",
              "      <th>gender</th>\n",
              "      <th>race/ethnicity</th>\n",
              "      <th>parental level of education</th>\n",
              "      <th>lunch</th>\n",
              "      <th>test preparation course</th>\n",
              "      <th>math score</th>\n",
              "      <th>reading score</th>\n",
              "      <th>writing score</th>\n",
              "    </tr>\n",
              "  </thead>\n",
              "  <tbody>\n",
              "    <tr>\n",
              "      <th>0</th>\n",
              "      <td>1</td>\n",
              "      <td>female</td>\n",
              "      <td>group B</td>\n",
              "      <td>bachelor's degree</td>\n",
              "      <td>standard</td>\n",
              "      <td>none</td>\n",
              "      <td>72</td>\n",
              "      <td>72</td>\n",
              "      <td>74</td>\n",
              "    </tr>\n",
              "    <tr>\n",
              "      <th>1</th>\n",
              "      <td>2</td>\n",
              "      <td>female</td>\n",
              "      <td>group C</td>\n",
              "      <td>some college</td>\n",
              "      <td>standard</td>\n",
              "      <td>completed</td>\n",
              "      <td>69</td>\n",
              "      <td>90</td>\n",
              "      <td>88</td>\n",
              "    </tr>\n",
              "    <tr>\n",
              "      <th>2</th>\n",
              "      <td>3</td>\n",
              "      <td>female</td>\n",
              "      <td>group B</td>\n",
              "      <td>master's degree</td>\n",
              "      <td>standard</td>\n",
              "      <td>none</td>\n",
              "      <td>90</td>\n",
              "      <td>95</td>\n",
              "      <td>93</td>\n",
              "    </tr>\n",
              "    <tr>\n",
              "      <th>3</th>\n",
              "      <td>4</td>\n",
              "      <td>male</td>\n",
              "      <td>group A</td>\n",
              "      <td>associate's degree</td>\n",
              "      <td>free/reduced</td>\n",
              "      <td>none</td>\n",
              "      <td>47</td>\n",
              "      <td>57</td>\n",
              "      <td>44</td>\n",
              "    </tr>\n",
              "    <tr>\n",
              "      <th>4</th>\n",
              "      <td>5</td>\n",
              "      <td>male</td>\n",
              "      <td>group C</td>\n",
              "      <td>some college</td>\n",
              "      <td>standard</td>\n",
              "      <td>none</td>\n",
              "      <td>76</td>\n",
              "      <td>78</td>\n",
              "      <td>75</td>\n",
              "    </tr>\n",
              "    <tr>\n",
              "      <th>5</th>\n",
              "      <td>6</td>\n",
              "      <td>female</td>\n",
              "      <td>group B</td>\n",
              "      <td>associate's degree</td>\n",
              "      <td>standard</td>\n",
              "      <td>none</td>\n",
              "      <td>71</td>\n",
              "      <td>83</td>\n",
              "      <td>78</td>\n",
              "    </tr>\n",
              "    <tr>\n",
              "      <th>6</th>\n",
              "      <td>7</td>\n",
              "      <td>female</td>\n",
              "      <td>group B</td>\n",
              "      <td>some college</td>\n",
              "      <td>standard</td>\n",
              "      <td>completed</td>\n",
              "      <td>88</td>\n",
              "      <td>95</td>\n",
              "      <td>92</td>\n",
              "    </tr>\n",
              "    <tr>\n",
              "      <th>7</th>\n",
              "      <td>8</td>\n",
              "      <td>male</td>\n",
              "      <td>group B</td>\n",
              "      <td>some college</td>\n",
              "      <td>free/reduced</td>\n",
              "      <td>none</td>\n",
              "      <td>40</td>\n",
              "      <td>43</td>\n",
              "      <td>39</td>\n",
              "    </tr>\n",
              "    <tr>\n",
              "      <th>8</th>\n",
              "      <td>9</td>\n",
              "      <td>male</td>\n",
              "      <td>group D</td>\n",
              "      <td>high school</td>\n",
              "      <td>free/reduced</td>\n",
              "      <td>completed</td>\n",
              "      <td>64</td>\n",
              "      <td>64</td>\n",
              "      <td>67</td>\n",
              "    </tr>\n",
              "    <tr>\n",
              "      <th>9</th>\n",
              "      <td>10</td>\n",
              "      <td>female</td>\n",
              "      <td>group B</td>\n",
              "      <td>high school</td>\n",
              "      <td>free/reduced</td>\n",
              "      <td>none</td>\n",
              "      <td>38</td>\n",
              "      <td>60</td>\n",
              "      <td>50</td>\n",
              "    </tr>\n",
              "  </tbody>\n",
              "</table>\n",
              "</div>\n",
              "      <button class=\"colab-df-convert\" onclick=\"convertToInteractive('df-6cba92da-7a92-496b-95b0-2df93211c216')\"\n",
              "              title=\"Convert this dataframe to an interactive table.\"\n",
              "              style=\"display:none;\">\n",
              "        \n",
              "  <svg xmlns=\"http://www.w3.org/2000/svg\" height=\"24px\"viewBox=\"0 0 24 24\"\n",
              "       width=\"24px\">\n",
              "    <path d=\"M0 0h24v24H0V0z\" fill=\"none\"/>\n",
              "    <path d=\"M18.56 5.44l.94 2.06.94-2.06 2.06-.94-2.06-.94-.94-2.06-.94 2.06-2.06.94zm-11 1L8.5 8.5l.94-2.06 2.06-.94-2.06-.94L8.5 2.5l-.94 2.06-2.06.94zm10 10l.94 2.06.94-2.06 2.06-.94-2.06-.94-.94-2.06-.94 2.06-2.06.94z\"/><path d=\"M17.41 7.96l-1.37-1.37c-.4-.4-.92-.59-1.43-.59-.52 0-1.04.2-1.43.59L10.3 9.45l-7.72 7.72c-.78.78-.78 2.05 0 2.83L4 21.41c.39.39.9.59 1.41.59.51 0 1.02-.2 1.41-.59l7.78-7.78 2.81-2.81c.8-.78.8-2.07 0-2.86zM5.41 20L4 18.59l7.72-7.72 1.47 1.35L5.41 20z\"/>\n",
              "  </svg>\n",
              "      </button>\n",
              "      \n",
              "  <style>\n",
              "    .colab-df-container {\n",
              "      display:flex;\n",
              "      flex-wrap:wrap;\n",
              "      gap: 12px;\n",
              "    }\n",
              "\n",
              "    .colab-df-convert {\n",
              "      background-color: #E8F0FE;\n",
              "      border: none;\n",
              "      border-radius: 50%;\n",
              "      cursor: pointer;\n",
              "      display: none;\n",
              "      fill: #1967D2;\n",
              "      height: 32px;\n",
              "      padding: 0 0 0 0;\n",
              "      width: 32px;\n",
              "    }\n",
              "\n",
              "    .colab-df-convert:hover {\n",
              "      background-color: #E2EBFA;\n",
              "      box-shadow: 0px 1px 2px rgba(60, 64, 67, 0.3), 0px 1px 3px 1px rgba(60, 64, 67, 0.15);\n",
              "      fill: #174EA6;\n",
              "    }\n",
              "\n",
              "    [theme=dark] .colab-df-convert {\n",
              "      background-color: #3B4455;\n",
              "      fill: #D2E3FC;\n",
              "    }\n",
              "\n",
              "    [theme=dark] .colab-df-convert:hover {\n",
              "      background-color: #434B5C;\n",
              "      box-shadow: 0px 1px 3px 1px rgba(0, 0, 0, 0.15);\n",
              "      filter: drop-shadow(0px 1px 2px rgba(0, 0, 0, 0.3));\n",
              "      fill: #FFFFFF;\n",
              "    }\n",
              "  </style>\n",
              "\n",
              "      <script>\n",
              "        const buttonEl =\n",
              "          document.querySelector('#df-6cba92da-7a92-496b-95b0-2df93211c216 button.colab-df-convert');\n",
              "        buttonEl.style.display =\n",
              "          google.colab.kernel.accessAllowed ? 'block' : 'none';\n",
              "\n",
              "        async function convertToInteractive(key) {\n",
              "          const element = document.querySelector('#df-6cba92da-7a92-496b-95b0-2df93211c216');\n",
              "          const dataTable =\n",
              "            await google.colab.kernel.invokeFunction('convertToInteractive',\n",
              "                                                     [key], {});\n",
              "          if (!dataTable) return;\n",
              "\n",
              "          const docLinkHtml = 'Like what you see? Visit the ' +\n",
              "            '<a target=\"_blank\" href=https://colab.research.google.com/notebooks/data_table.ipynb>data table notebook</a>'\n",
              "            + ' to learn more about interactive tables.';\n",
              "          element.innerHTML = '';\n",
              "          dataTable['output_type'] = 'display_data';\n",
              "          await google.colab.output.renderOutput(dataTable, element);\n",
              "          const docLink = document.createElement('div');\n",
              "          docLink.innerHTML = docLinkHtml;\n",
              "          element.appendChild(docLink);\n",
              "        }\n",
              "      </script>\n",
              "    </div>\n",
              "  </div>\n",
              "  "
            ]
          },
          "metadata": {},
          "execution_count": 27
        }
      ]
    },
    {
      "cell_type": "markdown",
      "source": [
        "# 3. Data Transformation"
      ],
      "metadata": {
        "id": "bkKUy8JhmXld"
      }
    },
    {
      "cell_type": "markdown",
      "source": [
        "### **Melanjutkan dari proses data cleaning.**"
      ],
      "metadata": {
        "id": "Eg9gTSbhP7ar"
      }
    },
    {
      "cell_type": "code",
      "source": [
        "dataset = pd.read_csv(\"Data.csv\")\n",
        "\n",
        "\n",
        "# Menampilkan shape dari data yg kita punya\n",
        "print('dataset:', (str(dataset.shape)))\n",
        "dataset"
      ],
      "metadata": {
        "id": "K8ibZ9YiPiBd",
        "colab": {
          "base_uri": "https://localhost:8080/",
          "height": 538
        },
        "outputId": "3baa91fd-6840-4e92-e4db-073baa8e05f8"
      },
      "execution_count": 28,
      "outputs": [
        {
          "output_type": "stream",
          "name": "stdout",
          "text": [
            "dataset: (15, 4)\n"
          ]
        },
        {
          "output_type": "execute_result",
          "data": {
            "text/plain": [
              "      Country   Age   Salary Purchased\n",
              "0       India  34.0  92000.0       Yes\n",
              "1   Sri lanka  22.0  25000.0       Yes\n",
              "2       China  31.0  74000.0       Yes\n",
              "3   Sri lanka  29.0      NaN        No\n",
              "4       China  55.0  98000.0       Yes\n",
              "5       India  24.0  30000.0        No\n",
              "6   Sri lanka  28.0  40000.0        No\n",
              "7       India   NaN  60000.0        No\n",
              "8       China  51.0  89000.0       Yes\n",
              "9       India  44.0  78000.0       Yes\n",
              "10  Sri lanka  21.0  20000.0        No\n",
              "11      China  25.0  30000.0       Yes\n",
              "12      India  33.0  45000.0       Yes\n",
              "13      India  42.0  65000.0       Yes\n",
              "14  Sri lanka  33.0  22000.0        No"
            ],
            "text/html": [
              "\n",
              "  <div id=\"df-3b8f4de1-88e5-4781-978b-1e3ded295bda\">\n",
              "    <div class=\"colab-df-container\">\n",
              "      <div>\n",
              "<style scoped>\n",
              "    .dataframe tbody tr th:only-of-type {\n",
              "        vertical-align: middle;\n",
              "    }\n",
              "\n",
              "    .dataframe tbody tr th {\n",
              "        vertical-align: top;\n",
              "    }\n",
              "\n",
              "    .dataframe thead th {\n",
              "        text-align: right;\n",
              "    }\n",
              "</style>\n",
              "<table border=\"1\" class=\"dataframe\">\n",
              "  <thead>\n",
              "    <tr style=\"text-align: right;\">\n",
              "      <th></th>\n",
              "      <th>Country</th>\n",
              "      <th>Age</th>\n",
              "      <th>Salary</th>\n",
              "      <th>Purchased</th>\n",
              "    </tr>\n",
              "  </thead>\n",
              "  <tbody>\n",
              "    <tr>\n",
              "      <th>0</th>\n",
              "      <td>India</td>\n",
              "      <td>34.0</td>\n",
              "      <td>92000.0</td>\n",
              "      <td>Yes</td>\n",
              "    </tr>\n",
              "    <tr>\n",
              "      <th>1</th>\n",
              "      <td>Sri lanka</td>\n",
              "      <td>22.0</td>\n",
              "      <td>25000.0</td>\n",
              "      <td>Yes</td>\n",
              "    </tr>\n",
              "    <tr>\n",
              "      <th>2</th>\n",
              "      <td>China</td>\n",
              "      <td>31.0</td>\n",
              "      <td>74000.0</td>\n",
              "      <td>Yes</td>\n",
              "    </tr>\n",
              "    <tr>\n",
              "      <th>3</th>\n",
              "      <td>Sri lanka</td>\n",
              "      <td>29.0</td>\n",
              "      <td>NaN</td>\n",
              "      <td>No</td>\n",
              "    </tr>\n",
              "    <tr>\n",
              "      <th>4</th>\n",
              "      <td>China</td>\n",
              "      <td>55.0</td>\n",
              "      <td>98000.0</td>\n",
              "      <td>Yes</td>\n",
              "    </tr>\n",
              "    <tr>\n",
              "      <th>5</th>\n",
              "      <td>India</td>\n",
              "      <td>24.0</td>\n",
              "      <td>30000.0</td>\n",
              "      <td>No</td>\n",
              "    </tr>\n",
              "    <tr>\n",
              "      <th>6</th>\n",
              "      <td>Sri lanka</td>\n",
              "      <td>28.0</td>\n",
              "      <td>40000.0</td>\n",
              "      <td>No</td>\n",
              "    </tr>\n",
              "    <tr>\n",
              "      <th>7</th>\n",
              "      <td>India</td>\n",
              "      <td>NaN</td>\n",
              "      <td>60000.0</td>\n",
              "      <td>No</td>\n",
              "    </tr>\n",
              "    <tr>\n",
              "      <th>8</th>\n",
              "      <td>China</td>\n",
              "      <td>51.0</td>\n",
              "      <td>89000.0</td>\n",
              "      <td>Yes</td>\n",
              "    </tr>\n",
              "    <tr>\n",
              "      <th>9</th>\n",
              "      <td>India</td>\n",
              "      <td>44.0</td>\n",
              "      <td>78000.0</td>\n",
              "      <td>Yes</td>\n",
              "    </tr>\n",
              "    <tr>\n",
              "      <th>10</th>\n",
              "      <td>Sri lanka</td>\n",
              "      <td>21.0</td>\n",
              "      <td>20000.0</td>\n",
              "      <td>No</td>\n",
              "    </tr>\n",
              "    <tr>\n",
              "      <th>11</th>\n",
              "      <td>China</td>\n",
              "      <td>25.0</td>\n",
              "      <td>30000.0</td>\n",
              "      <td>Yes</td>\n",
              "    </tr>\n",
              "    <tr>\n",
              "      <th>12</th>\n",
              "      <td>India</td>\n",
              "      <td>33.0</td>\n",
              "      <td>45000.0</td>\n",
              "      <td>Yes</td>\n",
              "    </tr>\n",
              "    <tr>\n",
              "      <th>13</th>\n",
              "      <td>India</td>\n",
              "      <td>42.0</td>\n",
              "      <td>65000.0</td>\n",
              "      <td>Yes</td>\n",
              "    </tr>\n",
              "    <tr>\n",
              "      <th>14</th>\n",
              "      <td>Sri lanka</td>\n",
              "      <td>33.0</td>\n",
              "      <td>22000.0</td>\n",
              "      <td>No</td>\n",
              "    </tr>\n",
              "  </tbody>\n",
              "</table>\n",
              "</div>\n",
              "      <button class=\"colab-df-convert\" onclick=\"convertToInteractive('df-3b8f4de1-88e5-4781-978b-1e3ded295bda')\"\n",
              "              title=\"Convert this dataframe to an interactive table.\"\n",
              "              style=\"display:none;\">\n",
              "        \n",
              "  <svg xmlns=\"http://www.w3.org/2000/svg\" height=\"24px\"viewBox=\"0 0 24 24\"\n",
              "       width=\"24px\">\n",
              "    <path d=\"M0 0h24v24H0V0z\" fill=\"none\"/>\n",
              "    <path d=\"M18.56 5.44l.94 2.06.94-2.06 2.06-.94-2.06-.94-.94-2.06-.94 2.06-2.06.94zm-11 1L8.5 8.5l.94-2.06 2.06-.94-2.06-.94L8.5 2.5l-.94 2.06-2.06.94zm10 10l.94 2.06.94-2.06 2.06-.94-2.06-.94-.94-2.06-.94 2.06-2.06.94z\"/><path d=\"M17.41 7.96l-1.37-1.37c-.4-.4-.92-.59-1.43-.59-.52 0-1.04.2-1.43.59L10.3 9.45l-7.72 7.72c-.78.78-.78 2.05 0 2.83L4 21.41c.39.39.9.59 1.41.59.51 0 1.02-.2 1.41-.59l7.78-7.78 2.81-2.81c.8-.78.8-2.07 0-2.86zM5.41 20L4 18.59l7.72-7.72 1.47 1.35L5.41 20z\"/>\n",
              "  </svg>\n",
              "      </button>\n",
              "      \n",
              "  <style>\n",
              "    .colab-df-container {\n",
              "      display:flex;\n",
              "      flex-wrap:wrap;\n",
              "      gap: 12px;\n",
              "    }\n",
              "\n",
              "    .colab-df-convert {\n",
              "      background-color: #E8F0FE;\n",
              "      border: none;\n",
              "      border-radius: 50%;\n",
              "      cursor: pointer;\n",
              "      display: none;\n",
              "      fill: #1967D2;\n",
              "      height: 32px;\n",
              "      padding: 0 0 0 0;\n",
              "      width: 32px;\n",
              "    }\n",
              "\n",
              "    .colab-df-convert:hover {\n",
              "      background-color: #E2EBFA;\n",
              "      box-shadow: 0px 1px 2px rgba(60, 64, 67, 0.3), 0px 1px 3px 1px rgba(60, 64, 67, 0.15);\n",
              "      fill: #174EA6;\n",
              "    }\n",
              "\n",
              "    [theme=dark] .colab-df-convert {\n",
              "      background-color: #3B4455;\n",
              "      fill: #D2E3FC;\n",
              "    }\n",
              "\n",
              "    [theme=dark] .colab-df-convert:hover {\n",
              "      background-color: #434B5C;\n",
              "      box-shadow: 0px 1px 3px 1px rgba(0, 0, 0, 0.15);\n",
              "      filter: drop-shadow(0px 1px 2px rgba(0, 0, 0, 0.3));\n",
              "      fill: #FFFFFF;\n",
              "    }\n",
              "  </style>\n",
              "\n",
              "      <script>\n",
              "        const buttonEl =\n",
              "          document.querySelector('#df-3b8f4de1-88e5-4781-978b-1e3ded295bda button.colab-df-convert');\n",
              "        buttonEl.style.display =\n",
              "          google.colab.kernel.accessAllowed ? 'block' : 'none';\n",
              "\n",
              "        async function convertToInteractive(key) {\n",
              "          const element = document.querySelector('#df-3b8f4de1-88e5-4781-978b-1e3ded295bda');\n",
              "          const dataTable =\n",
              "            await google.colab.kernel.invokeFunction('convertToInteractive',\n",
              "                                                     [key], {});\n",
              "          if (!dataTable) return;\n",
              "\n",
              "          const docLinkHtml = 'Like what you see? Visit the ' +\n",
              "            '<a target=\"_blank\" href=https://colab.research.google.com/notebooks/data_table.ipynb>data table notebook</a>'\n",
              "            + ' to learn more about interactive tables.';\n",
              "          element.innerHTML = '';\n",
              "          dataTable['output_type'] = 'display_data';\n",
              "          await google.colab.output.renderOutput(dataTable, element);\n",
              "          const docLink = document.createElement('div');\n",
              "          docLink.innerHTML = docLinkHtml;\n",
              "          element.appendChild(docLink);\n",
              "        }\n",
              "      </script>\n",
              "    </div>\n",
              "  </div>\n",
              "  "
            ]
          },
          "metadata": {},
          "execution_count": 28
        }
      ]
    },
    {
      "cell_type": "code",
      "source": [
        "# Memisahkan antara fitur dan label\n",
        "\n",
        "# Fitur\n",
        "# iloc[rows,columns] (Slicing pada dataframe)\n",
        "# Mengambil semua data dalam barisan.\n",
        "# Mengambil kolom index ke-0 sampai ke-2\n",
        "X = dataset.iloc[:,:3].values\n",
        "\n",
        "# Label\n",
        "# iloc[rows,columns] (Slicing pada dataframe)\n",
        "# Mengambil semua data dalam barisan.\n",
        "# Hanya Mengambil kolom index ke-3\n",
        "Y = dataset.iloc[:,3].values"
      ],
      "metadata": {
        "id": "3Kz8KsOCPo7Z"
      },
      "execution_count": 29,
      "outputs": []
    },
    {
      "cell_type": "code",
      "source": [
        "# Print the X and Y\n",
        "print ('Fitur (X):', X)\n",
        "print ('\\n-----------------------------------')\n",
        "print ('\\nLabel (Y): ',Y)"
      ],
      "metadata": {
        "id": "gDc-LJ76PtEF",
        "colab": {
          "base_uri": "https://localhost:8080/"
        },
        "outputId": "fd5cb7e0-9ac4-4329-be0e-ce400161cf57"
      },
      "execution_count": 30,
      "outputs": [
        {
          "output_type": "stream",
          "name": "stdout",
          "text": [
            "Fitur (X): [['India' 34.0 92000.0]\n",
            " ['Sri lanka' 22.0 25000.0]\n",
            " ['China' 31.0 74000.0]\n",
            " ['Sri lanka' 29.0 nan]\n",
            " ['China' 55.0 98000.0]\n",
            " ['India' 24.0 30000.0]\n",
            " ['Sri lanka' 28.0 40000.0]\n",
            " ['India' nan 60000.0]\n",
            " ['China' 51.0 89000.0]\n",
            " ['India' 44.0 78000.0]\n",
            " ['Sri lanka' 21.0 20000.0]\n",
            " ['China' 25.0 30000.0]\n",
            " ['India' 33.0 45000.0]\n",
            " ['India' 42.0 65000.0]\n",
            " ['Sri lanka' 33.0 22000.0]]\n",
            "\n",
            "-----------------------------------\n",
            "\n",
            "Label (Y):  ['Yes' 'Yes' 'Yes' 'No' 'Yes' 'No' 'No' 'No' 'Yes' 'Yes' 'No' 'Yes' 'Yes'\n",
            " 'Yes' 'No']\n"
          ]
        }
      ]
    },
    {
      "cell_type": "code",
      "source": [
        "from sklearn.impute import SimpleImputer\n",
        "\n",
        "# SimpleImputer class mempunyai 2 parameter, yaitu :\n",
        "#     missing_values : Missing value pada data kita, biasanya diisi dengan np.nan\n",
        "#     strategy       : Strategi yang akan kita gunakan dalam menangani missing value (Mean/Modus/Median).\n",
        "#                      Defaultnya parameter strategy 'mean'\n",
        "\n",
        "imputer = SimpleImputer(missing_values = np.nan ,strategy = 'mean')\n",
        "\n",
        "\n",
        "# Fit imputer kedalam data X untuk kolom Age (index ke-1) dan Salary (index ke-2).\n",
        "imputer = imputer.fit(X[:,1:3])\n",
        "\n",
        "#Replace missing value dengan mean pada kolom tersebut\n",
        "X[:,1:3] = imputer.transform(X[:,1:3])\n"
      ],
      "metadata": {
        "id": "Nrj8AtNwPzBx"
      },
      "execution_count": 31,
      "outputs": []
    },
    {
      "cell_type": "markdown",
      "source": [
        "## Encode the Categorical data\n",
        "\n",
        "Categorical data biasanya memiliki tipe data string.\n",
        "Beberapa algoritma dapat memproses categorical data yg berbentuka string secara langsung seperti decision tree.\n",
        "\n",
        "Akan tetapi banyak machine learning algorithms tidak dapat memproses categorical data yg berbentuk string secara langsung. Mereka membutuhkan variabel yg berbentuk numeric.\n",
        "\n",
        "Itu artinya categorical data harus dikonversi bentukanya kedalam numerical form."
      ],
      "metadata": {
        "id": "N4g6oWUAmllr"
      }
    },
    {
      "cell_type": "markdown",
      "source": [
        "Pada Dataset kita terdapat dua kolom categorical data\n",
        "\n",
        "Yaitu kolom 'Country' dan 'Purchased'"
      ],
      "metadata": {
        "id": "SsLkWc-DmvHG"
      }
    },
    {
      "cell_type": "markdown",
      "source": [
        "#### Label Encoder: \n",
        "\n",
        "    * Metode ini bisa digunakan untuk mentranform non-numerical labels kedalam bentuk numerical labels (or nominal\n",
        "      categorical variables).\n",
        "    * Numerical labels akan selalu ada diantara 0 sampai n_classes-1. \n",
        "      Misalkan ada 3 kelas, berarti labelnya ada di 0, 1, dan 2."
      ],
      "metadata": {
        "id": "5dhD1Jetm73_"
      }
    },
    {
      "cell_type": "code",
      "source": [
        "from sklearn.preprocessing import LabelEncoder, OneHotEncoder\n",
        "#Encode untuk data kategorikal pada kolom 'Country'\n",
        "labelencoder_X = LabelEncoder()\n",
        "X[:,0] = labelencoder_X.fit_transform(X[:,0])\n",
        "X[:,0]"
      ],
      "metadata": {
        "id": "qq7h8QwWmjrl",
        "outputId": "061b6063-19ea-45b4-e12a-559ecbbb1138",
        "colab": {
          "base_uri": "https://localhost:8080/"
        }
      },
      "execution_count": 33,
      "outputs": [
        {
          "output_type": "execute_result",
          "data": {
            "text/plain": [
              "array([1, 2, 0, 2, 0, 1, 2, 1, 0, 1, 2, 0, 1, 1, 2], dtype=object)"
            ]
          },
          "metadata": {},
          "execution_count": 33
        }
      ]
    },
    {
      "cell_type": "markdown",
      "source": [
        "Sekarang categorical value untuk kolom 'Country' dirbah ke dalam bentuk kategorikal\n",
        "\n",
        "| Country | Value |\n",
        "|:--------|:------|\n",
        "| China   |   0   |  \n",
        "| India   |   1   |   \n",
        "| Srilanka|   2   |   \n"
      ],
      "metadata": {
        "id": "rLOJltNznNMc"
      }
    },
    {
      "cell_type": "code",
      "source": [
        "X"
      ],
      "metadata": {
        "id": "bhyThPScmcoH",
        "outputId": "e493b2db-578e-46be-9095-f1d931fe2737",
        "colab": {
          "base_uri": "https://localhost:8080/"
        }
      },
      "execution_count": null,
      "outputs": [
        {
          "output_type": "execute_result",
          "data": {
            "text/plain": [
              "array([[ 6.14000000e+02, -7.91565162e-01],\n",
              "       [ 3.81000000e+02, -3.10133353e-01],\n",
              "       [ 5.34000000e+02, -6.41502240e-01],\n",
              "       ...,\n",
              "       [ 3.10000000e+01,  9.22372792e-01],\n",
              "       [ 4.27000000e+02, -1.99140682e-01],\n",
              "       [ 7.40000000e+01,  5.08078845e-01]])"
            ]
          },
          "metadata": {},
          "execution_count": 89
        }
      ]
    },
    {
      "cell_type": "markdown",
      "source": [
        "Sekarang categorical value untuk kolom 'Purchased' dirubah ke dalam bentuk kategorikal\n",
        "\n",
        "| Purchased| Value |\n",
        "|:---------|:------|\n",
        "| No       |   0   |  \n",
        "| Yes      |    1  |   "
      ],
      "metadata": {
        "id": "wBUIo009n609"
      }
    },
    {
      "cell_type": "code",
      "source": [
        "#Encode untuk data kategorikal pada kolom 'Purchased'\n",
        "labelencoder_Y = LabelEncoder()\n",
        "Y = labelencoder_X.fit_transform(Y)\n",
        "Y"
      ],
      "metadata": {
        "id": "K4rwt5HinjZo",
        "outputId": "d1c154a7-ced1-4b75-aa91-c6431fe106bc",
        "colab": {
          "base_uri": "https://localhost:8080/"
        }
      },
      "execution_count": null,
      "outputs": [
        {
          "output_type": "execute_result",
          "data": {
            "text/plain": [
              "array([1, 1, 1, 0, 1, 0, 0, 0, 1, 1, 0, 1, 1, 1, 0])"
            ]
          },
          "metadata": {},
          "execution_count": 90
        }
      ]
    },
    {
      "cell_type": "markdown",
      "source": [
        "## Scale your Features\n",
        "\n",
        "Dalam sebuah dataset, biasanya nilai pada tiap fitur mempunyai range yg berbeda. Hal ini dapat menjadikan masalah untuk\n",
        "beberapa model machine learning. Untuk itu kita harus melakukan scaling agar semua nilai pada fitur memiliki range yang sama. Tetapi\n",
        "Pertama, Kita akan melihat hasil ketika proses scaling diabaikan dan langsung masuk ke pemodelan.\n"
      ],
      "metadata": {
        "id": "5OY4oq4pndOC"
      }
    },
    {
      "cell_type": "code",
      "source": [
        "from sklearn.preprocessing import StandardScaler\n",
        "\n",
        "sc_X = StandardScaler()\n",
        "\n",
        "# We need to fit and transform the training set\n",
        "X = sc_X.fit_transform(X)"
      ],
      "metadata": {
        "id": "gFOJdwQKoV5i"
      },
      "execution_count": 34,
      "outputs": []
    },
    {
      "cell_type": "code",
      "source": [
        "X"
      ],
      "metadata": {
        "id": "3WzMg3tPoYa3",
        "outputId": "0640103c-e911-40bb-c972-8c082fdbd5c3",
        "colab": {
          "base_uri": "https://localhost:8080/"
        }
      },
      "execution_count": null,
      "outputs": [
        {
          "output_type": "execute_result",
          "data": {
            "text/plain": [
              "array([[ 0.39663983, -0.470561  ],\n",
              "       [-0.41049625,  0.17174246],\n",
              "       [ 0.11951157, -0.27035418],\n",
              "       ...,\n",
              "       [-1.62293242,  1.81609364],\n",
              "       [-0.25114749,  0.31982361],\n",
              "       [-1.47397597,  1.26336233]])"
            ]
          },
          "metadata": {},
          "execution_count": 92
        }
      ]
    },
    {
      "cell_type": "markdown",
      "source": [
        "sekarang dapat dilihat bahwa X tiap column akan di standarisasi sesuai range antara 0 dan 1."
      ],
      "metadata": {
        "id": "PGvZoXlToZDD"
      }
    }
  ],
  "metadata": {
    "kernelspec": {
      "display_name": "Python 3",
      "language": "python",
      "name": "python3"
    },
    "language_info": {
      "codemirror_mode": {
        "name": "ipython",
        "version": 3
      },
      "file_extension": ".py",
      "mimetype": "text/x-python",
      "name": "python",
      "nbconvert_exporter": "python",
      "pygments_lexer": "ipython3",
      "version": "3.7.6"
    },
    "colab": {
      "provenance": [],
      "collapsed_sections": [
        "5dhD1Jetm73_"
      ],
      "include_colab_link": true
    }
  },
  "nbformat": 4,
  "nbformat_minor": 0
}