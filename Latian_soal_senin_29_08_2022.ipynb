{
  "nbformat": 4,
  "nbformat_minor": 0,
  "metadata": {
    "colab": {
      "name": "Latian soal senin 29-08-2022.ipynb",
      "provenance": [],
      "authorship_tag": "ABX9TyNy0F7NTyucEe+fn1cpw14O",
      "include_colab_link": true
    },
    "kernelspec": {
      "name": "python3",
      "display_name": "Python 3"
    },
    "language_info": {
      "name": "python"
    }
  },
  "cells": [
    {
      "cell_type": "markdown",
      "metadata": {
        "id": "view-in-github",
        "colab_type": "text"
      },
      "source": [
        "<a href=\"https://colab.research.google.com/github/Thomas19SA1247/Tugas-Self-Learning/blob/main/Latian_soal_senin_29_08_2022.ipynb\" target=\"_parent\"><img src=\"https://colab.research.google.com/assets/colab-badge.svg\" alt=\"Open In Colab\"/></a>"
      ]
    },
    {
      "cell_type": "code",
      "execution_count": 5,
      "metadata": {
        "colab": {
          "base_uri": "https://localhost:8080/"
        },
        "id": "LBrRY2WcfkQl",
        "outputId": "aecb1c00-236c-4664-ddc5-0f517d626eb8"
      },
      "outputs": [
        {
          "output_type": "stream",
          "name": "stdout",
          "text": [
            "MENGHITUNG LUAS & KELILING PERSEGI\n",
            "\n",
            "Masukan Panjang Sisi: 5\n",
            "\n",
            "Luas Persegi \t\t: 25.0\n",
            "Keliling Persegi\t: 20.0\n"
          ]
        }
      ],
      "source": [
        "print(\"MENGHITUNG LUAS & KELILING PERSEGI\")\n",
        "\n",
        "s = float(input(\"\\nMasukan Panjang Sisi: \"))\n",
        "\n",
        "luas = s**2\n",
        "keliling = 4 * s\n",
        "\n",
        "print(\"\\nLuas Persegi \\t\\t:\",luas)\n",
        "print(\"Keliling Persegi\\t:\",keliling)"
      ]
    },
    {
      "cell_type": "code",
      "source": [
        "print(\"MENGHITUNG LUAS & KELILING PERSEGI PANJANG\")\n",
        "\n",
        "P = float(input(\"\\nMasukan Panjang: \"))\n",
        "l = float(input(\"\\nMasukan Lebar: \"))\n",
        "luas = p * l\n",
        "keliling = 2 * (p+l)\n",
        "\n",
        "print(\"\\nLuas Persegi Panjang\\t\\t:\",luas)\n",
        "print(\"Keliling Persegi Panjang\\t:\",keliling)"
      ],
      "metadata": {
        "colab": {
          "base_uri": "https://localhost:8080/"
        },
        "id": "uDagZEm_f4FM",
        "outputId": "9571d954-1097-4f27-d8d1-c75cf7a58b43"
      },
      "execution_count": 6,
      "outputs": [
        {
          "output_type": "stream",
          "name": "stdout",
          "text": [
            "MENGHITUNG LUAS & KELILING PERSEGI PANJANG\n",
            "\n",
            "Masukan Panjang: 6\n",
            "\n",
            "Masukan Lebar: 8\n",
            "\n",
            "Luas Persegi \t\t: 32.0\n",
            "Keliling Persegi\t: 24.0\n"
          ]
        }
      ]
    },
    {
      "cell_type": "code",
      "source": [
        "print(\"MENGHITUNG LUAS & KELILING TRAPESIUM\")\n",
        "\n",
        "a = float(input(\"\\nMasukan Sisi alas: \"))\n",
        "b = float(input(\"\\nMasukan Sisi atas: \"))\n",
        "c = float(input(\"\\nMasukan Sisi miring kiri: \"))\n",
        "d = float(input(\"\\nMasukan Sisi miring kanan: \"))\n",
        "t = float(input(\"\\nMasukan Tinggi: \"))\n",
        "luas = 1/2 * (a + b) * t\n",
        "keliling = a + b + c + d\n",
        "print(\"\\nLuas Trapesium \\t\\t:\",luas)\n",
        "print(\"Keliling Trapesium\\t:\",keliling)"
      ],
      "metadata": {
        "colab": {
          "base_uri": "https://localhost:8080/"
        },
        "id": "2AFiDfBll_jZ",
        "outputId": "6d384ca8-3531-4417-a265-cd38fa617c19"
      },
      "execution_count": 7,
      "outputs": [
        {
          "output_type": "stream",
          "name": "stdout",
          "text": [
            "MENGHITUNG LUAS & KELILING TRAPESIUM\n",
            "\n",
            "Masukan Sisi alas: 5\n",
            "\n",
            "Masukan Sisi atas: 6\n",
            "\n",
            "Masukan Sisi miring kiri: 4\n",
            "\n",
            "Masukan Sisi miring kanan: 4\n",
            "\n",
            "Masukan Tinggi: 6\n",
            "\n",
            "Luas Trapesium \t\t: 33.0\n",
            "Keliling Trapesium\t: 19.0\n"
          ]
        }
      ]
    },
    {
      "cell_type": "code",
      "source": [
        "print(\"MENGHITUNG LUAS DAN VOLUME KUBUS\")\n",
        "\n",
        "r = float(input(\"\\nMasukan panjang rusuk: \"))\n",
        "luas = 6 * r * r\n",
        "volume = r * r * r\n",
        "print(\"\\nLuas Kubus \\t\\t:\",luas)\n",
        "print(\"Volume Kubus \\t\\t:\",volume)"
      ],
      "metadata": {
        "colab": {
          "base_uri": "https://localhost:8080/"
        },
        "id": "xjq1Oj9JoHf6",
        "outputId": "326716ca-7c9b-47fe-ebdc-85e1fd06d05e"
      },
      "execution_count": 11,
      "outputs": [
        {
          "output_type": "stream",
          "name": "stdout",
          "text": [
            "MENGHITUNG LUAS DAN VOLUME KUBUS\n",
            "\n",
            "Masukan panjang rusuk: 8\n",
            "\n",
            "Luas Kubus \t\t: 384.0\n",
            "Volume Kubus \t\t: 512.0\n"
          ]
        }
      ]
    },
    {
      "cell_type": "code",
      "source": [
        "print(\"MENGHITUNG LUAS DAN VOLUME BALOK\")\n",
        "\n",
        "p = float(input(\"\\nMasukan panjang balok: \"))\n",
        "l = float(input(\"\\nMasukan lebar balok: \"))\n",
        "t = float(input(\"\\nMasukan tinggi balok: \"))\n",
        "luas = 2 * (p*l + p*t + l*t)\n",
        "volume = p * l * t\n",
        "print(\"\\nLuas Balok \\t\\t:\",luas)\n",
        "print(\"Volume Balok \\t\\t:\",volume)"
      ],
      "metadata": {
        "colab": {
          "base_uri": "https://localhost:8080/"
        },
        "id": "oF7ZZsZypLIq",
        "outputId": "694a0ac0-3c1a-4963-a138-33ec7c894725"
      },
      "execution_count": 12,
      "outputs": [
        {
          "output_type": "stream",
          "name": "stdout",
          "text": [
            "MENGHITUNG LUAS DAN VOLUME BALOK\n",
            "\n",
            "Masukan panjang balok: 8\n",
            "\n",
            "Masukan lebar balok: 9\n",
            "\n",
            "Masukan tinggi balok: 10\n",
            "\n",
            "Luas Balok \t\t: 484.0\n",
            "Volume Balok \t\t: 720.0\n"
          ]
        }
      ]
    },
    {
      "cell_type": "code",
      "source": [
        "print(\"MENGHITUNG LUAS DAN VOLUME TABUNG\")\n",
        "\n",
        "a = float(input(\"\\nMasukan angka 22/7: \"))\n",
        "r = float(input(\"\\nMasukan jari jari lingkaran tabung: \"))\n",
        "t = float(input(\"\\nMasukan tinggi tabung: \"))\n",
        "luas = 2 * π * r * (t+r)\n",
        "volume = π * r * r * t\n",
        "print(\"\\nLuas Tabung \\t\\t:\",luas)\n",
        "print(\"\\nVolume Tabung \\t\\t:\",volume)"
      ],
      "metadata": {
        "colab": {
          "base_uri": "https://localhost:8080/",
          "height": 287
        },
        "id": "Sd8VOSyLrB5a",
        "outputId": "40ed74ae-7ced-4fe9-c47d-ba336f14dd4d"
      },
      "execution_count": 14,
      "outputs": [
        {
          "name": "stdout",
          "output_type": "stream",
          "text": [
            "MENGHITUNG LUAS DAN VOLUME TABUNG\n",
            "\n",
            "Masukan angka 22/7: 22/7\n"
          ]
        },
        {
          "output_type": "error",
          "ename": "ValueError",
          "evalue": "ignored",
          "traceback": [
            "\u001b[0;31m---------------------------------------------------------------------------\u001b[0m",
            "\u001b[0;31mValueError\u001b[0m                                Traceback (most recent call last)",
            "\u001b[0;32m<ipython-input-14-736dcff49d7c>\u001b[0m in \u001b[0;36m<module>\u001b[0;34m\u001b[0m\n\u001b[1;32m      1\u001b[0m \u001b[0mprint\u001b[0m\u001b[0;34m(\u001b[0m\u001b[0;34m\"MENGHITUNG LUAS DAN VOLUME TABUNG\"\u001b[0m\u001b[0;34m)\u001b[0m\u001b[0;34m\u001b[0m\u001b[0;34m\u001b[0m\u001b[0m\n\u001b[1;32m      2\u001b[0m \u001b[0;34m\u001b[0m\u001b[0m\n\u001b[0;32m----> 3\u001b[0;31m \u001b[0ma\u001b[0m \u001b[0;34m=\u001b[0m \u001b[0mfloat\u001b[0m\u001b[0;34m(\u001b[0m\u001b[0minput\u001b[0m\u001b[0;34m(\u001b[0m\u001b[0;34m\"\\nMasukan angka 22/7: \"\u001b[0m\u001b[0;34m)\u001b[0m\u001b[0;34m)\u001b[0m\u001b[0;34m\u001b[0m\u001b[0;34m\u001b[0m\u001b[0m\n\u001b[0m\u001b[1;32m      4\u001b[0m \u001b[0mr\u001b[0m \u001b[0;34m=\u001b[0m \u001b[0mfloat\u001b[0m\u001b[0;34m(\u001b[0m\u001b[0minput\u001b[0m\u001b[0;34m(\u001b[0m\u001b[0;34m\"\\nMasukan jari jari lingkaran tabung: \"\u001b[0m\u001b[0;34m)\u001b[0m\u001b[0;34m)\u001b[0m\u001b[0;34m\u001b[0m\u001b[0;34m\u001b[0m\u001b[0m\n\u001b[1;32m      5\u001b[0m \u001b[0mt\u001b[0m \u001b[0;34m=\u001b[0m \u001b[0mfloat\u001b[0m\u001b[0;34m(\u001b[0m\u001b[0minput\u001b[0m\u001b[0;34m(\u001b[0m\u001b[0;34m\"\\nMasukan tinggi tabung: \"\u001b[0m\u001b[0;34m)\u001b[0m\u001b[0;34m)\u001b[0m\u001b[0;34m\u001b[0m\u001b[0;34m\u001b[0m\u001b[0m\n",
            "\u001b[0;31mValueError\u001b[0m: could not convert string to float: '22/7'"
          ]
        }
      ]
    }
  ]
}